{
 "cells": [
  {
   "cell_type": "markdown",
   "id": "54f6dded-a23a-419f-a0d9-4d728d77921b",
   "metadata": {},
   "source": [
    "# Summary of Results"
   ]
  },
  {
   "cell_type": "code",
   "execution_count": 15,
   "id": "be93e28e-41ac-4d16-9884-b236d794061e",
   "metadata": {
    "execution": {
     "iopub.execute_input": "2024-05-15T07:39:35.412123Z",
     "iopub.status.busy": "2024-05-15T07:39:35.411647Z",
     "iopub.status.idle": "2024-05-15T07:39:35.417136Z",
     "shell.execute_reply": "2024-05-15T07:39:35.416095Z",
     "shell.execute_reply.started": "2024-05-15T07:39:35.412083Z"
    }
   },
   "outputs": [],
   "source": [
    "import pandas as pd"
   ]
  },
  {
   "cell_type": "code",
   "execution_count": 18,
   "id": "1cfdda63-0661-4413-86d1-1c497931f65f",
   "metadata": {
    "execution": {
     "iopub.execute_input": "2024-05-15T07:41:07.353245Z",
     "iopub.status.busy": "2024-05-15T07:41:07.352755Z",
     "iopub.status.idle": "2024-05-15T07:41:07.379901Z",
     "shell.execute_reply": "2024-05-15T07:41:07.378643Z",
     "shell.execute_reply.started": "2024-05-15T07:41:07.353205Z"
    }
   },
   "outputs": [],
   "source": [
    "models = ['naive', 'arima', 'gru', 'lstm']\n",
    "results = pd.DataFrame(index=['MAE', 'MSE', 'MAPE'])\n",
    "for csv_filepath in [f'results/{model}.csv' for model in models]:\n",
    "    data = pd.read_csv(csv_filepath, index_col=0)\n",
    "    results = results.join(data)"
   ]
  },
  {
   "cell_type": "code",
   "execution_count": 19,
   "id": "c41491b7-7ea0-4c7a-8e0f-16e730df23dc",
   "metadata": {
    "execution": {
     "iopub.execute_input": "2024-05-15T07:41:07.834387Z",
     "iopub.status.busy": "2024-05-15T07:41:07.833900Z",
     "iopub.status.idle": "2024-05-15T07:41:07.851064Z",
     "shell.execute_reply": "2024-05-15T07:41:07.849975Z",
     "shell.execute_reply.started": "2024-05-15T07:41:07.834345Z"
    }
   },
   "outputs": [
    {
     "data": {
      "text/html": [
       "<div>\n",
       "<style scoped>\n",
       "    .dataframe tbody tr th:only-of-type {\n",
       "        vertical-align: middle;\n",
       "    }\n",
       "\n",
       "    .dataframe tbody tr th {\n",
       "        vertical-align: top;\n",
       "    }\n",
       "\n",
       "    .dataframe thead th {\n",
       "        text-align: right;\n",
       "    }\n",
       "</style>\n",
       "<table border=\"1\" class=\"dataframe\">\n",
       "  <thead>\n",
       "    <tr style=\"text-align: right;\">\n",
       "      <th></th>\n",
       "      <th>Naive</th>\n",
       "      <th>ARIMA</th>\n",
       "      <th>GRU</th>\n",
       "      <th>LSTM</th>\n",
       "    </tr>\n",
       "  </thead>\n",
       "  <tbody>\n",
       "    <tr>\n",
       "      <th>MAE</th>\n",
       "      <td>1.740159e+04</td>\n",
       "      <td>1.420584e+04</td>\n",
       "      <td>1.261628e+04</td>\n",
       "      <td>1.258552e+04</td>\n",
       "    </tr>\n",
       "    <tr>\n",
       "      <th>MSE</th>\n",
       "      <td>4.804893e+08</td>\n",
       "      <td>3.623263e+08</td>\n",
       "      <td>3.075810e+08</td>\n",
       "      <td>2.987862e+08</td>\n",
       "    </tr>\n",
       "    <tr>\n",
       "      <th>MAPE</th>\n",
       "      <td>1.298085e-01</td>\n",
       "      <td>1.006524e-01</td>\n",
       "      <td>8.755377e-02</td>\n",
       "      <td>8.842125e-02</td>\n",
       "    </tr>\n",
       "  </tbody>\n",
       "</table>\n",
       "</div>"
      ],
      "text/plain": [
       "             Naive         ARIMA           GRU          LSTM\n",
       "MAE   1.740159e+04  1.420584e+04  1.261628e+04  1.258552e+04\n",
       "MSE   4.804893e+08  3.623263e+08  3.075810e+08  2.987862e+08\n",
       "MAPE  1.298085e-01  1.006524e-01  8.755377e-02  8.842125e-02"
      ]
     },
     "execution_count": 19,
     "metadata": {},
     "output_type": "execute_result"
    }
   ],
   "source": [
    "results"
   ]
  }
 ],
 "metadata": {
  "kernelspec": {
   "display_name": "Python 3 (ipykernel)",
   "language": "python",
   "name": "python3"
  },
  "language_info": {
   "codemirror_mode": {
    "name": "ipython",
    "version": 3
   },
   "file_extension": ".py",
   "mimetype": "text/x-python",
   "name": "python",
   "nbconvert_exporter": "python",
   "pygments_lexer": "ipython3",
   "version": "3.11.8"
  }
 },
 "nbformat": 4,
 "nbformat_minor": 5
}
