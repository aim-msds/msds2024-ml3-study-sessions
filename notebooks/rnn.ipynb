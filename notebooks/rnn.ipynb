{
 "cells": [
  {
   "cell_type": "markdown",
   "id": "880b4456-8717-4b3f-b44c-bf7f5352d107",
   "metadata": {},
   "source": [
    "# Recurrent Neural Networks"
   ]
  },
  {
   "cell_type": "markdown",
   "id": "a3c40839-e173-4d06-b9f9-8473329620be",
   "metadata": {},
   "source": [
    "## Counting Parameters"
   ]
  },
  {
   "cell_type": "code",
   "execution_count": 2,
   "id": "6fa7a717-b40b-4688-afd8-fedbf1583d67",
   "metadata": {
    "execution": {
     "iopub.execute_input": "2024-05-07T23:11:48.294716Z",
     "iopub.status.busy": "2024-05-07T23:11:48.294338Z",
     "iopub.status.idle": "2024-05-07T23:11:53.235274Z",
     "shell.execute_reply": "2024-05-07T23:11:53.233173Z",
     "shell.execute_reply.started": "2024-05-07T23:11:48.294672Z"
    }
   },
   "outputs": [],
   "source": [
    "from tensorflow import keras\n",
    "from tensorflow.keras import layers"
   ]
  },
  {
   "cell_type": "markdown",
   "id": "63a11b8a-f3f1-4f44-a33d-f8daae62ef09",
   "metadata": {},
   "source": [
    "### Simple RNN"
   ]
  },
  {
   "cell_type": "code",
   "execution_count": 3,
   "id": "82722bb8-3d32-428f-90c3-8cf7c6d18999",
   "metadata": {
    "execution": {
     "iopub.execute_input": "2024-05-07T23:11:53.239957Z",
     "iopub.status.busy": "2024-05-07T23:11:53.238323Z",
     "iopub.status.idle": "2024-05-07T23:11:53.249126Z",
     "shell.execute_reply": "2024-05-07T23:11:53.247372Z",
     "shell.execute_reply.started": "2024-05-07T23:11:53.239872Z"
    }
   },
   "outputs": [],
   "source": [
    "sequence_length = 120\n",
    "input_features = 20\n",
    "output_features = 32"
   ]
  },
  {
   "cell_type": "markdown",
   "id": "5ff36401-05d0-49d7-8868-2707cd1b15f0",
   "metadata": {},
   "source": [
    "#### Sequential API"
   ]
  },
  {
   "cell_type": "code",
   "execution_count": 4,
   "id": "f49767a4-b78b-4d34-a2f2-2e58587e2252",
   "metadata": {
    "execution": {
     "iopub.execute_input": "2024-05-07T23:11:53.252231Z",
     "iopub.status.busy": "2024-05-07T23:11:53.251508Z",
     "iopub.status.idle": "2024-05-07T23:11:53.944099Z",
     "shell.execute_reply": "2024-05-07T23:11:53.942885Z",
     "shell.execute_reply.started": "2024-05-07T23:11:53.252158Z"
    }
   },
   "outputs": [],
   "source": [
    "# Build the model\n",
    "model = keras.Sequential()\n",
    "model.add(keras.Input(shape=(sequence_length, input_features)))\n",
    "model.add(layers.SimpleRNN(output_features))\n",
    "model.add(layers.Dense(1, activation='sigmoid'))"
   ]
  },
  {
   "cell_type": "code",
   "execution_count": 5,
   "id": "d046f001-ace4-4bd5-96b2-33ceb5c93bef",
   "metadata": {
    "execution": {
     "iopub.execute_input": "2024-05-07T23:11:53.945372Z",
     "iopub.status.busy": "2024-05-07T23:11:53.945111Z",
     "iopub.status.idle": "2024-05-07T23:11:53.970385Z",
     "shell.execute_reply": "2024-05-07T23:11:53.968717Z",
     "shell.execute_reply.started": "2024-05-07T23:11:53.945346Z"
    }
   },
   "outputs": [
    {
     "data": {
      "text/html": [
       "<pre style=\"white-space:pre;overflow-x:auto;line-height:normal;font-family:Menlo,'DejaVu Sans Mono',consolas,'Courier New',monospace\"><span style=\"font-weight: bold\">Model: \"sequential\"</span>\n",
       "</pre>\n"
      ],
      "text/plain": [
       "\u001b[1mModel: \"sequential\"\u001b[0m\n"
      ]
     },
     "metadata": {},
     "output_type": "display_data"
    },
    {
     "data": {
      "text/html": [
       "<pre style=\"white-space:pre;overflow-x:auto;line-height:normal;font-family:Menlo,'DejaVu Sans Mono',consolas,'Courier New',monospace\">┏━━━━━━━━━━━━━━━━━━━━━━━━━━━━━━━━━┳━━━━━━━━━━━━━━━━━━━━━━━━┳━━━━━━━━━━━━━━━┓\n",
       "┃<span style=\"font-weight: bold\"> Layer (type)                    </span>┃<span style=\"font-weight: bold\"> Output Shape           </span>┃<span style=\"font-weight: bold\">       Param # </span>┃\n",
       "┡━━━━━━━━━━━━━━━━━━━━━━━━━━━━━━━━━╇━━━━━━━━━━━━━━━━━━━━━━━━╇━━━━━━━━━━━━━━━┩\n",
       "│ simple_rnn (<span style=\"color: #0087ff; text-decoration-color: #0087ff\">SimpleRNN</span>)          │ (<span style=\"color: #00d7ff; text-decoration-color: #00d7ff\">None</span>, <span style=\"color: #00af00; text-decoration-color: #00af00\">32</span>)             │         <span style=\"color: #00af00; text-decoration-color: #00af00\">1,696</span> │\n",
       "├─────────────────────────────────┼────────────────────────┼───────────────┤\n",
       "│ dense (<span style=\"color: #0087ff; text-decoration-color: #0087ff\">Dense</span>)                   │ (<span style=\"color: #00d7ff; text-decoration-color: #00d7ff\">None</span>, <span style=\"color: #00af00; text-decoration-color: #00af00\">1</span>)              │            <span style=\"color: #00af00; text-decoration-color: #00af00\">33</span> │\n",
       "└─────────────────────────────────┴────────────────────────┴───────────────┘\n",
       "</pre>\n"
      ],
      "text/plain": [
       "┏━━━━━━━━━━━━━━━━━━━━━━━━━━━━━━━━━┳━━━━━━━━━━━━━━━━━━━━━━━━┳━━━━━━━━━━━━━━━┓\n",
       "┃\u001b[1m \u001b[0m\u001b[1mLayer (type)                   \u001b[0m\u001b[1m \u001b[0m┃\u001b[1m \u001b[0m\u001b[1mOutput Shape          \u001b[0m\u001b[1m \u001b[0m┃\u001b[1m \u001b[0m\u001b[1m      Param #\u001b[0m\u001b[1m \u001b[0m┃\n",
       "┡━━━━━━━━━━━━━━━━━━━━━━━━━━━━━━━━━╇━━━━━━━━━━━━━━━━━━━━━━━━╇━━━━━━━━━━━━━━━┩\n",
       "│ simple_rnn (\u001b[38;5;33mSimpleRNN\u001b[0m)          │ (\u001b[38;5;45mNone\u001b[0m, \u001b[38;5;34m32\u001b[0m)             │         \u001b[38;5;34m1,696\u001b[0m │\n",
       "├─────────────────────────────────┼────────────────────────┼───────────────┤\n",
       "│ dense (\u001b[38;5;33mDense\u001b[0m)                   │ (\u001b[38;5;45mNone\u001b[0m, \u001b[38;5;34m1\u001b[0m)              │            \u001b[38;5;34m33\u001b[0m │\n",
       "└─────────────────────────────────┴────────────────────────┴───────────────┘\n"
      ]
     },
     "metadata": {},
     "output_type": "display_data"
    },
    {
     "data": {
      "text/html": [
       "<pre style=\"white-space:pre;overflow-x:auto;line-height:normal;font-family:Menlo,'DejaVu Sans Mono',consolas,'Courier New',monospace\"><span style=\"font-weight: bold\"> Total params: </span><span style=\"color: #00af00; text-decoration-color: #00af00\">1,729</span> (6.75 KB)\n",
       "</pre>\n"
      ],
      "text/plain": [
       "\u001b[1m Total params: \u001b[0m\u001b[38;5;34m1,729\u001b[0m (6.75 KB)\n"
      ]
     },
     "metadata": {},
     "output_type": "display_data"
    },
    {
     "data": {
      "text/html": [
       "<pre style=\"white-space:pre;overflow-x:auto;line-height:normal;font-family:Menlo,'DejaVu Sans Mono',consolas,'Courier New',monospace\"><span style=\"font-weight: bold\"> Trainable params: </span><span style=\"color: #00af00; text-decoration-color: #00af00\">1,729</span> (6.75 KB)\n",
       "</pre>\n"
      ],
      "text/plain": [
       "\u001b[1m Trainable params: \u001b[0m\u001b[38;5;34m1,729\u001b[0m (6.75 KB)\n"
      ]
     },
     "metadata": {},
     "output_type": "display_data"
    },
    {
     "data": {
      "text/html": [
       "<pre style=\"white-space:pre;overflow-x:auto;line-height:normal;font-family:Menlo,'DejaVu Sans Mono',consolas,'Courier New',monospace\"><span style=\"font-weight: bold\"> Non-trainable params: </span><span style=\"color: #00af00; text-decoration-color: #00af00\">0</span> (0.00 B)\n",
       "</pre>\n"
      ],
      "text/plain": [
       "\u001b[1m Non-trainable params: \u001b[0m\u001b[38;5;34m0\u001b[0m (0.00 B)\n"
      ]
     },
     "metadata": {},
     "output_type": "display_data"
    }
   ],
   "source": [
    "model.summary()"
   ]
  },
  {
   "cell_type": "markdown",
   "id": "0287cd32-6511-484f-9362-c4682d7c09ae",
   "metadata": {},
   "source": [
    "$$\n",
    "h^{(t)} = \\phi(W_{hh}h^{(t-1)} + W_{hx}x^{(t)} + b_h)\n",
    "$$\n",
    "\n",
    "**Number of parameters**\n",
    "\n",
    "`W_hh`: `out_features` $\\times$ `out_features`\n",
    "\n",
    "`W_hx`: `out_features` $\\times$ `input_features`\n",
    "\n",
    "`b_h`: `out_features`"
   ]
  },
  {
   "cell_type": "code",
   "execution_count": 6,
   "id": "ff7dff03-553b-46ee-8f8f-44bf9956dc2e",
   "metadata": {
    "execution": {
     "iopub.execute_input": "2024-05-07T23:11:53.977800Z",
     "iopub.status.busy": "2024-05-07T23:11:53.977059Z",
     "iopub.status.idle": "2024-05-07T23:11:53.986528Z",
     "shell.execute_reply": "2024-05-07T23:11:53.985607Z",
     "shell.execute_reply.started": "2024-05-07T23:11:53.977724Z"
    }
   },
   "outputs": [
    {
     "data": {
      "text/plain": [
       "1696"
      ]
     },
     "execution_count": 6,
     "metadata": {},
     "output_type": "execute_result"
    }
   ],
   "source": [
    "output_features**2 + output_features*input_features + output_features"
   ]
  },
  {
   "cell_type": "markdown",
   "id": "be0e88ad-c274-40f2-b446-8a791fcb13ec",
   "metadata": {},
   "source": [
    "#### Functional API"
   ]
  },
  {
   "cell_type": "code",
   "execution_count": 7,
   "id": "048b5b9a-bf01-475f-ab79-6dbba539c4f8",
   "metadata": {
    "execution": {
     "iopub.execute_input": "2024-05-07T23:11:53.988353Z",
     "iopub.status.busy": "2024-05-07T23:11:53.987928Z",
     "iopub.status.idle": "2024-05-07T23:11:54.022279Z",
     "shell.execute_reply": "2024-05-07T23:11:54.020748Z",
     "shell.execute_reply.started": "2024-05-07T23:11:53.988310Z"
    }
   },
   "outputs": [],
   "source": [
    "# Forward pass\n",
    "inputs = keras.Input(shape=(sequence_length, input_features))\n",
    "x = layers.SimpleRNN(output_features)(inputs)\n",
    "outputs = layers.Dense(1, activation='sigmoid')(x)\n",
    "\n",
    "# Build the model\n",
    "model = keras.Model(inputs, outputs)"
   ]
  },
  {
   "cell_type": "code",
   "execution_count": 8,
   "id": "1cb4533a-75b2-4d6f-b84b-986968c2bf04",
   "metadata": {
    "execution": {
     "iopub.execute_input": "2024-05-07T23:11:54.023399Z",
     "iopub.status.busy": "2024-05-07T23:11:54.023156Z",
     "iopub.status.idle": "2024-05-07T23:11:54.040089Z",
     "shell.execute_reply": "2024-05-07T23:11:54.039116Z",
     "shell.execute_reply.started": "2024-05-07T23:11:54.023374Z"
    }
   },
   "outputs": [
    {
     "data": {
      "text/html": [
       "<pre style=\"white-space:pre;overflow-x:auto;line-height:normal;font-family:Menlo,'DejaVu Sans Mono',consolas,'Courier New',monospace\"><span style=\"font-weight: bold\">Model: \"functional_3\"</span>\n",
       "</pre>\n"
      ],
      "text/plain": [
       "\u001b[1mModel: \"functional_3\"\u001b[0m\n"
      ]
     },
     "metadata": {},
     "output_type": "display_data"
    },
    {
     "data": {
      "text/html": [
       "<pre style=\"white-space:pre;overflow-x:auto;line-height:normal;font-family:Menlo,'DejaVu Sans Mono',consolas,'Courier New',monospace\">┏━━━━━━━━━━━━━━━━━━━━━━━━━━━━━━━━━┳━━━━━━━━━━━━━━━━━━━━━━━━┳━━━━━━━━━━━━━━━┓\n",
       "┃<span style=\"font-weight: bold\"> Layer (type)                    </span>┃<span style=\"font-weight: bold\"> Output Shape           </span>┃<span style=\"font-weight: bold\">       Param # </span>┃\n",
       "┡━━━━━━━━━━━━━━━━━━━━━━━━━━━━━━━━━╇━━━━━━━━━━━━━━━━━━━━━━━━╇━━━━━━━━━━━━━━━┩\n",
       "│ input_layer_1 (<span style=\"color: #0087ff; text-decoration-color: #0087ff\">InputLayer</span>)      │ (<span style=\"color: #00d7ff; text-decoration-color: #00d7ff\">None</span>, <span style=\"color: #00af00; text-decoration-color: #00af00\">120</span>, <span style=\"color: #00af00; text-decoration-color: #00af00\">20</span>)        │             <span style=\"color: #00af00; text-decoration-color: #00af00\">0</span> │\n",
       "├─────────────────────────────────┼────────────────────────┼───────────────┤\n",
       "│ simple_rnn_1 (<span style=\"color: #0087ff; text-decoration-color: #0087ff\">SimpleRNN</span>)        │ (<span style=\"color: #00d7ff; text-decoration-color: #00d7ff\">None</span>, <span style=\"color: #00af00; text-decoration-color: #00af00\">32</span>)             │         <span style=\"color: #00af00; text-decoration-color: #00af00\">1,696</span> │\n",
       "├─────────────────────────────────┼────────────────────────┼───────────────┤\n",
       "│ dense_1 (<span style=\"color: #0087ff; text-decoration-color: #0087ff\">Dense</span>)                 │ (<span style=\"color: #00d7ff; text-decoration-color: #00d7ff\">None</span>, <span style=\"color: #00af00; text-decoration-color: #00af00\">1</span>)              │            <span style=\"color: #00af00; text-decoration-color: #00af00\">33</span> │\n",
       "└─────────────────────────────────┴────────────────────────┴───────────────┘\n",
       "</pre>\n"
      ],
      "text/plain": [
       "┏━━━━━━━━━━━━━━━━━━━━━━━━━━━━━━━━━┳━━━━━━━━━━━━━━━━━━━━━━━━┳━━━━━━━━━━━━━━━┓\n",
       "┃\u001b[1m \u001b[0m\u001b[1mLayer (type)                   \u001b[0m\u001b[1m \u001b[0m┃\u001b[1m \u001b[0m\u001b[1mOutput Shape          \u001b[0m\u001b[1m \u001b[0m┃\u001b[1m \u001b[0m\u001b[1m      Param #\u001b[0m\u001b[1m \u001b[0m┃\n",
       "┡━━━━━━━━━━━━━━━━━━━━━━━━━━━━━━━━━╇━━━━━━━━━━━━━━━━━━━━━━━━╇━━━━━━━━━━━━━━━┩\n",
       "│ input_layer_1 (\u001b[38;5;33mInputLayer\u001b[0m)      │ (\u001b[38;5;45mNone\u001b[0m, \u001b[38;5;34m120\u001b[0m, \u001b[38;5;34m20\u001b[0m)        │             \u001b[38;5;34m0\u001b[0m │\n",
       "├─────────────────────────────────┼────────────────────────┼───────────────┤\n",
       "│ simple_rnn_1 (\u001b[38;5;33mSimpleRNN\u001b[0m)        │ (\u001b[38;5;45mNone\u001b[0m, \u001b[38;5;34m32\u001b[0m)             │         \u001b[38;5;34m1,696\u001b[0m │\n",
       "├─────────────────────────────────┼────────────────────────┼───────────────┤\n",
       "│ dense_1 (\u001b[38;5;33mDense\u001b[0m)                 │ (\u001b[38;5;45mNone\u001b[0m, \u001b[38;5;34m1\u001b[0m)              │            \u001b[38;5;34m33\u001b[0m │\n",
       "└─────────────────────────────────┴────────────────────────┴───────────────┘\n"
      ]
     },
     "metadata": {},
     "output_type": "display_data"
    },
    {
     "data": {
      "text/html": [
       "<pre style=\"white-space:pre;overflow-x:auto;line-height:normal;font-family:Menlo,'DejaVu Sans Mono',consolas,'Courier New',monospace\"><span style=\"font-weight: bold\"> Total params: </span><span style=\"color: #00af00; text-decoration-color: #00af00\">1,729</span> (6.75 KB)\n",
       "</pre>\n"
      ],
      "text/plain": [
       "\u001b[1m Total params: \u001b[0m\u001b[38;5;34m1,729\u001b[0m (6.75 KB)\n"
      ]
     },
     "metadata": {},
     "output_type": "display_data"
    },
    {
     "data": {
      "text/html": [
       "<pre style=\"white-space:pre;overflow-x:auto;line-height:normal;font-family:Menlo,'DejaVu Sans Mono',consolas,'Courier New',monospace\"><span style=\"font-weight: bold\"> Trainable params: </span><span style=\"color: #00af00; text-decoration-color: #00af00\">1,729</span> (6.75 KB)\n",
       "</pre>\n"
      ],
      "text/plain": [
       "\u001b[1m Trainable params: \u001b[0m\u001b[38;5;34m1,729\u001b[0m (6.75 KB)\n"
      ]
     },
     "metadata": {},
     "output_type": "display_data"
    },
    {
     "data": {
      "text/html": [
       "<pre style=\"white-space:pre;overflow-x:auto;line-height:normal;font-family:Menlo,'DejaVu Sans Mono',consolas,'Courier New',monospace\"><span style=\"font-weight: bold\"> Non-trainable params: </span><span style=\"color: #00af00; text-decoration-color: #00af00\">0</span> (0.00 B)\n",
       "</pre>\n"
      ],
      "text/plain": [
       "\u001b[1m Non-trainable params: \u001b[0m\u001b[38;5;34m0\u001b[0m (0.00 B)\n"
      ]
     },
     "metadata": {},
     "output_type": "display_data"
    }
   ],
   "source": [
    "model.summary()"
   ]
  },
  {
   "cell_type": "markdown",
   "id": "0e984fde-e973-4d34-b855-44867ac7c170",
   "metadata": {},
   "source": [
    "### LSTM"
   ]
  },
  {
   "cell_type": "code",
   "execution_count": 9,
   "id": "ce9401b4-3e73-404e-8d33-366d9d6a6295",
   "metadata": {
    "execution": {
     "iopub.execute_input": "2024-05-07T23:11:54.041008Z",
     "iopub.status.busy": "2024-05-07T23:11:54.040783Z",
     "iopub.status.idle": "2024-05-07T23:11:54.046206Z",
     "shell.execute_reply": "2024-05-07T23:11:54.045119Z",
     "shell.execute_reply.started": "2024-05-07T23:11:54.040984Z"
    }
   },
   "outputs": [],
   "source": [
    "sequence_length = 120\n",
    "input_features = 10\n",
    "output_features = 32"
   ]
  },
  {
   "cell_type": "code",
   "execution_count": 10,
   "id": "c0513aad-5588-4cf6-8754-36795db336e7",
   "metadata": {
    "execution": {
     "iopub.execute_input": "2024-05-07T23:11:54.047480Z",
     "iopub.status.busy": "2024-05-07T23:11:54.047220Z",
     "iopub.status.idle": "2024-05-07T23:11:54.088151Z",
     "shell.execute_reply": "2024-05-07T23:11:54.086372Z",
     "shell.execute_reply.started": "2024-05-07T23:11:54.047453Z"
    }
   },
   "outputs": [],
   "source": [
    "# Forward pass\n",
    "inputs = keras.Input(shape=(sequence_length, input_features))\n",
    "x = layers.LSTM(output_features)(inputs)\n",
    "outputs = layers.Dense(1, activation='sigmoid')(x)\n",
    "\n",
    "# Build the model\n",
    "model = keras.Model(inputs, outputs)"
   ]
  },
  {
   "cell_type": "code",
   "execution_count": 11,
   "id": "24e1876f-86fd-4317-abbb-96d41ade4dc3",
   "metadata": {
    "execution": {
     "iopub.execute_input": "2024-05-07T23:11:54.089367Z",
     "iopub.status.busy": "2024-05-07T23:11:54.089107Z",
     "iopub.status.idle": "2024-05-07T23:11:54.106913Z",
     "shell.execute_reply": "2024-05-07T23:11:54.105918Z",
     "shell.execute_reply.started": "2024-05-07T23:11:54.089340Z"
    }
   },
   "outputs": [
    {
     "data": {
      "text/html": [
       "<pre style=\"white-space:pre;overflow-x:auto;line-height:normal;font-family:Menlo,'DejaVu Sans Mono',consolas,'Courier New',monospace\"><span style=\"font-weight: bold\">Model: \"functional_5\"</span>\n",
       "</pre>\n"
      ],
      "text/plain": [
       "\u001b[1mModel: \"functional_5\"\u001b[0m\n"
      ]
     },
     "metadata": {},
     "output_type": "display_data"
    },
    {
     "data": {
      "text/html": [
       "<pre style=\"white-space:pre;overflow-x:auto;line-height:normal;font-family:Menlo,'DejaVu Sans Mono',consolas,'Courier New',monospace\">┏━━━━━━━━━━━━━━━━━━━━━━━━━━━━━━━━━┳━━━━━━━━━━━━━━━━━━━━━━━━┳━━━━━━━━━━━━━━━┓\n",
       "┃<span style=\"font-weight: bold\"> Layer (type)                    </span>┃<span style=\"font-weight: bold\"> Output Shape           </span>┃<span style=\"font-weight: bold\">       Param # </span>┃\n",
       "┡━━━━━━━━━━━━━━━━━━━━━━━━━━━━━━━━━╇━━━━━━━━━━━━━━━━━━━━━━━━╇━━━━━━━━━━━━━━━┩\n",
       "│ input_layer_2 (<span style=\"color: #0087ff; text-decoration-color: #0087ff\">InputLayer</span>)      │ (<span style=\"color: #00d7ff; text-decoration-color: #00d7ff\">None</span>, <span style=\"color: #00af00; text-decoration-color: #00af00\">120</span>, <span style=\"color: #00af00; text-decoration-color: #00af00\">10</span>)        │             <span style=\"color: #00af00; text-decoration-color: #00af00\">0</span> │\n",
       "├─────────────────────────────────┼────────────────────────┼───────────────┤\n",
       "│ lstm (<span style=\"color: #0087ff; text-decoration-color: #0087ff\">LSTM</span>)                     │ (<span style=\"color: #00d7ff; text-decoration-color: #00d7ff\">None</span>, <span style=\"color: #00af00; text-decoration-color: #00af00\">32</span>)             │         <span style=\"color: #00af00; text-decoration-color: #00af00\">5,504</span> │\n",
       "├─────────────────────────────────┼────────────────────────┼───────────────┤\n",
       "│ dense_2 (<span style=\"color: #0087ff; text-decoration-color: #0087ff\">Dense</span>)                 │ (<span style=\"color: #00d7ff; text-decoration-color: #00d7ff\">None</span>, <span style=\"color: #00af00; text-decoration-color: #00af00\">1</span>)              │            <span style=\"color: #00af00; text-decoration-color: #00af00\">33</span> │\n",
       "└─────────────────────────────────┴────────────────────────┴───────────────┘\n",
       "</pre>\n"
      ],
      "text/plain": [
       "┏━━━━━━━━━━━━━━━━━━━━━━━━━━━━━━━━━┳━━━━━━━━━━━━━━━━━━━━━━━━┳━━━━━━━━━━━━━━━┓\n",
       "┃\u001b[1m \u001b[0m\u001b[1mLayer (type)                   \u001b[0m\u001b[1m \u001b[0m┃\u001b[1m \u001b[0m\u001b[1mOutput Shape          \u001b[0m\u001b[1m \u001b[0m┃\u001b[1m \u001b[0m\u001b[1m      Param #\u001b[0m\u001b[1m \u001b[0m┃\n",
       "┡━━━━━━━━━━━━━━━━━━━━━━━━━━━━━━━━━╇━━━━━━━━━━━━━━━━━━━━━━━━╇━━━━━━━━━━━━━━━┩\n",
       "│ input_layer_2 (\u001b[38;5;33mInputLayer\u001b[0m)      │ (\u001b[38;5;45mNone\u001b[0m, \u001b[38;5;34m120\u001b[0m, \u001b[38;5;34m10\u001b[0m)        │             \u001b[38;5;34m0\u001b[0m │\n",
       "├─────────────────────────────────┼────────────────────────┼───────────────┤\n",
       "│ lstm (\u001b[38;5;33mLSTM\u001b[0m)                     │ (\u001b[38;5;45mNone\u001b[0m, \u001b[38;5;34m32\u001b[0m)             │         \u001b[38;5;34m5,504\u001b[0m │\n",
       "├─────────────────────────────────┼────────────────────────┼───────────────┤\n",
       "│ dense_2 (\u001b[38;5;33mDense\u001b[0m)                 │ (\u001b[38;5;45mNone\u001b[0m, \u001b[38;5;34m1\u001b[0m)              │            \u001b[38;5;34m33\u001b[0m │\n",
       "└─────────────────────────────────┴────────────────────────┴───────────────┘\n"
      ]
     },
     "metadata": {},
     "output_type": "display_data"
    },
    {
     "data": {
      "text/html": [
       "<pre style=\"white-space:pre;overflow-x:auto;line-height:normal;font-family:Menlo,'DejaVu Sans Mono',consolas,'Courier New',monospace\"><span style=\"font-weight: bold\"> Total params: </span><span style=\"color: #00af00; text-decoration-color: #00af00\">5,537</span> (21.63 KB)\n",
       "</pre>\n"
      ],
      "text/plain": [
       "\u001b[1m Total params: \u001b[0m\u001b[38;5;34m5,537\u001b[0m (21.63 KB)\n"
      ]
     },
     "metadata": {},
     "output_type": "display_data"
    },
    {
     "data": {
      "text/html": [
       "<pre style=\"white-space:pre;overflow-x:auto;line-height:normal;font-family:Menlo,'DejaVu Sans Mono',consolas,'Courier New',monospace\"><span style=\"font-weight: bold\"> Trainable params: </span><span style=\"color: #00af00; text-decoration-color: #00af00\">5,537</span> (21.63 KB)\n",
       "</pre>\n"
      ],
      "text/plain": [
       "\u001b[1m Trainable params: \u001b[0m\u001b[38;5;34m5,537\u001b[0m (21.63 KB)\n"
      ]
     },
     "metadata": {},
     "output_type": "display_data"
    },
    {
     "data": {
      "text/html": [
       "<pre style=\"white-space:pre;overflow-x:auto;line-height:normal;font-family:Menlo,'DejaVu Sans Mono',consolas,'Courier New',monospace\"><span style=\"font-weight: bold\"> Non-trainable params: </span><span style=\"color: #00af00; text-decoration-color: #00af00\">0</span> (0.00 B)\n",
       "</pre>\n"
      ],
      "text/plain": [
       "\u001b[1m Non-trainable params: \u001b[0m\u001b[38;5;34m0\u001b[0m (0.00 B)\n"
      ]
     },
     "metadata": {},
     "output_type": "display_data"
    }
   ],
   "source": [
    "model.summary()"
   ]
  },
  {
   "cell_type": "markdown",
   "id": "b865ed9c-6145-4f1f-bd68-45ccf8ab76ea",
   "metadata": {},
   "source": [
    "Recurrent units:\n",
    "\n",
    "\\begin{eqnarray}\n",
    "f^{(t)} &=& \\sigma(W_{hf}h^{(t-1)} + W_{xf}x^{(t)} + b_f) \\\\\n",
    "i^{(t)} &=& \\sigma(W_{hi}h^{(t-1)} + W_{xi}x^{(t)} + b_i) \\\\\n",
    "g^{(t)} &=& \\tanh(W_{hg}h^{(t-1)} + W_{xg}x^{(t)} + b_g) \\\\\n",
    "o^{(t)} &=& \\sigma(W_{ho}h^{(t-1)} + W_{xo}x^{(t)} + b_o) \\\\\n",
    "\\end{eqnarray}\n",
    "\n",
    "Cell state:\n",
    "$$\n",
    "C^{(t)} = f \\cdot C^{(t-1)} + i \\cdot g\n",
    "$$\n",
    "\n",
    "Hidden state:\n",
    "\n",
    "$$\n",
    "h^{(t)} = o^{(t)} \\cdot \\tanh(C^{(t)})\n",
    "$$\n",
    "\n",
    "**Number of parameters**\n",
    "\n",
    "`W_hf` = `W_hi` = `W_hg` = `W_ho` = `output_features` x `output_features`\n",
    "\n",
    "`W_xf` = `W_xi` = `W_xg` = `W_xo` = `output_features` x `input_features`\n",
    "\n",
    "`b_f` = `b_i` = `b_g` = `b_o` = `output_features`"
   ]
  },
  {
   "cell_type": "code",
   "execution_count": 12,
   "id": "21018f6c-9564-40dc-9c12-cb56292bea50",
   "metadata": {
    "execution": {
     "iopub.execute_input": "2024-05-07T23:11:54.108186Z",
     "iopub.status.busy": "2024-05-07T23:11:54.107926Z",
     "iopub.status.idle": "2024-05-07T23:11:54.116375Z",
     "shell.execute_reply": "2024-05-07T23:11:54.115103Z",
     "shell.execute_reply.started": "2024-05-07T23:11:54.108159Z"
    }
   },
   "outputs": [
    {
     "data": {
      "text/plain": [
       "5504"
      ]
     },
     "execution_count": 12,
     "metadata": {},
     "output_type": "execute_result"
    }
   ],
   "source": [
    "4*(output_features**2 + output_features*input_features + output_features)"
   ]
  },
  {
   "cell_type": "markdown",
   "id": "f5e11e5a-e1ba-4a57-8545-e0631140d785",
   "metadata": {},
   "source": [
    "### GRU (v3)"
   ]
  },
  {
   "cell_type": "code",
   "execution_count": 13,
   "id": "c710da82-a941-4ee4-88e5-36c8d62dd5ce",
   "metadata": {
    "execution": {
     "iopub.execute_input": "2024-05-07T23:11:54.118066Z",
     "iopub.status.busy": "2024-05-07T23:11:54.117712Z",
     "iopub.status.idle": "2024-05-07T23:11:54.123256Z",
     "shell.execute_reply": "2024-05-07T23:11:54.121976Z",
     "shell.execute_reply.started": "2024-05-07T23:11:54.118030Z"
    }
   },
   "outputs": [],
   "source": [
    "sequence_length = 120\n",
    "input_features = 10\n",
    "output_features = 32"
   ]
  },
  {
   "cell_type": "code",
   "execution_count": 14,
   "id": "81109e3d-6609-4a14-b417-6da1614b3103",
   "metadata": {
    "execution": {
     "iopub.execute_input": "2024-05-07T23:11:54.125377Z",
     "iopub.status.busy": "2024-05-07T23:11:54.124931Z",
     "iopub.status.idle": "2024-05-07T23:11:54.164101Z",
     "shell.execute_reply": "2024-05-07T23:11:54.162337Z",
     "shell.execute_reply.started": "2024-05-07T23:11:54.125330Z"
    }
   },
   "outputs": [],
   "source": [
    "# Forward pass\n",
    "inputs = keras.Input(shape=(sequence_length, input_features))\n",
    "x = layers.GRU(output_features, reset_after=False)(inputs)\n",
    "outputs = layers.Dense(1, activation='sigmoid')(x)\n",
    "\n",
    "# Build the model\n",
    "model = keras.Model(inputs, outputs)"
   ]
  },
  {
   "cell_type": "code",
   "execution_count": 15,
   "id": "2d7c1bd4-ee16-4c81-a47b-f6bf10ed5807",
   "metadata": {
    "execution": {
     "iopub.execute_input": "2024-05-07T23:11:54.166504Z",
     "iopub.status.busy": "2024-05-07T23:11:54.165989Z",
     "iopub.status.idle": "2024-05-07T23:11:54.194836Z",
     "shell.execute_reply": "2024-05-07T23:11:54.193345Z",
     "shell.execute_reply.started": "2024-05-07T23:11:54.166450Z"
    }
   },
   "outputs": [
    {
     "data": {
      "text/html": [
       "<pre style=\"white-space:pre;overflow-x:auto;line-height:normal;font-family:Menlo,'DejaVu Sans Mono',consolas,'Courier New',monospace\"><span style=\"font-weight: bold\">Model: \"functional_7\"</span>\n",
       "</pre>\n"
      ],
      "text/plain": [
       "\u001b[1mModel: \"functional_7\"\u001b[0m\n"
      ]
     },
     "metadata": {},
     "output_type": "display_data"
    },
    {
     "data": {
      "text/html": [
       "<pre style=\"white-space:pre;overflow-x:auto;line-height:normal;font-family:Menlo,'DejaVu Sans Mono',consolas,'Courier New',monospace\">┏━━━━━━━━━━━━━━━━━━━━━━━━━━━━━━━━━┳━━━━━━━━━━━━━━━━━━━━━━━━┳━━━━━━━━━━━━━━━┓\n",
       "┃<span style=\"font-weight: bold\"> Layer (type)                    </span>┃<span style=\"font-weight: bold\"> Output Shape           </span>┃<span style=\"font-weight: bold\">       Param # </span>┃\n",
       "┡━━━━━━━━━━━━━━━━━━━━━━━━━━━━━━━━━╇━━━━━━━━━━━━━━━━━━━━━━━━╇━━━━━━━━━━━━━━━┩\n",
       "│ input_layer_3 (<span style=\"color: #0087ff; text-decoration-color: #0087ff\">InputLayer</span>)      │ (<span style=\"color: #00d7ff; text-decoration-color: #00d7ff\">None</span>, <span style=\"color: #00af00; text-decoration-color: #00af00\">120</span>, <span style=\"color: #00af00; text-decoration-color: #00af00\">10</span>)        │             <span style=\"color: #00af00; text-decoration-color: #00af00\">0</span> │\n",
       "├─────────────────────────────────┼────────────────────────┼───────────────┤\n",
       "│ gru (<span style=\"color: #0087ff; text-decoration-color: #0087ff\">GRU</span>)                       │ (<span style=\"color: #00d7ff; text-decoration-color: #00d7ff\">None</span>, <span style=\"color: #00af00; text-decoration-color: #00af00\">32</span>)             │         <span style=\"color: #00af00; text-decoration-color: #00af00\">4,128</span> │\n",
       "├─────────────────────────────────┼────────────────────────┼───────────────┤\n",
       "│ dense_3 (<span style=\"color: #0087ff; text-decoration-color: #0087ff\">Dense</span>)                 │ (<span style=\"color: #00d7ff; text-decoration-color: #00d7ff\">None</span>, <span style=\"color: #00af00; text-decoration-color: #00af00\">1</span>)              │            <span style=\"color: #00af00; text-decoration-color: #00af00\">33</span> │\n",
       "└─────────────────────────────────┴────────────────────────┴───────────────┘\n",
       "</pre>\n"
      ],
      "text/plain": [
       "┏━━━━━━━━━━━━━━━━━━━━━━━━━━━━━━━━━┳━━━━━━━━━━━━━━━━━━━━━━━━┳━━━━━━━━━━━━━━━┓\n",
       "┃\u001b[1m \u001b[0m\u001b[1mLayer (type)                   \u001b[0m\u001b[1m \u001b[0m┃\u001b[1m \u001b[0m\u001b[1mOutput Shape          \u001b[0m\u001b[1m \u001b[0m┃\u001b[1m \u001b[0m\u001b[1m      Param #\u001b[0m\u001b[1m \u001b[0m┃\n",
       "┡━━━━━━━━━━━━━━━━━━━━━━━━━━━━━━━━━╇━━━━━━━━━━━━━━━━━━━━━━━━╇━━━━━━━━━━━━━━━┩\n",
       "│ input_layer_3 (\u001b[38;5;33mInputLayer\u001b[0m)      │ (\u001b[38;5;45mNone\u001b[0m, \u001b[38;5;34m120\u001b[0m, \u001b[38;5;34m10\u001b[0m)        │             \u001b[38;5;34m0\u001b[0m │\n",
       "├─────────────────────────────────┼────────────────────────┼───────────────┤\n",
       "│ gru (\u001b[38;5;33mGRU\u001b[0m)                       │ (\u001b[38;5;45mNone\u001b[0m, \u001b[38;5;34m32\u001b[0m)             │         \u001b[38;5;34m4,128\u001b[0m │\n",
       "├─────────────────────────────────┼────────────────────────┼───────────────┤\n",
       "│ dense_3 (\u001b[38;5;33mDense\u001b[0m)                 │ (\u001b[38;5;45mNone\u001b[0m, \u001b[38;5;34m1\u001b[0m)              │            \u001b[38;5;34m33\u001b[0m │\n",
       "└─────────────────────────────────┴────────────────────────┴───────────────┘\n"
      ]
     },
     "metadata": {},
     "output_type": "display_data"
    },
    {
     "data": {
      "text/html": [
       "<pre style=\"white-space:pre;overflow-x:auto;line-height:normal;font-family:Menlo,'DejaVu Sans Mono',consolas,'Courier New',monospace\"><span style=\"font-weight: bold\"> Total params: </span><span style=\"color: #00af00; text-decoration-color: #00af00\">4,161</span> (16.25 KB)\n",
       "</pre>\n"
      ],
      "text/plain": [
       "\u001b[1m Total params: \u001b[0m\u001b[38;5;34m4,161\u001b[0m (16.25 KB)\n"
      ]
     },
     "metadata": {},
     "output_type": "display_data"
    },
    {
     "data": {
      "text/html": [
       "<pre style=\"white-space:pre;overflow-x:auto;line-height:normal;font-family:Menlo,'DejaVu Sans Mono',consolas,'Courier New',monospace\"><span style=\"font-weight: bold\"> Trainable params: </span><span style=\"color: #00af00; text-decoration-color: #00af00\">4,161</span> (16.25 KB)\n",
       "</pre>\n"
      ],
      "text/plain": [
       "\u001b[1m Trainable params: \u001b[0m\u001b[38;5;34m4,161\u001b[0m (16.25 KB)\n"
      ]
     },
     "metadata": {},
     "output_type": "display_data"
    },
    {
     "data": {
      "text/html": [
       "<pre style=\"white-space:pre;overflow-x:auto;line-height:normal;font-family:Menlo,'DejaVu Sans Mono',consolas,'Courier New',monospace\"><span style=\"font-weight: bold\"> Non-trainable params: </span><span style=\"color: #00af00; text-decoration-color: #00af00\">0</span> (0.00 B)\n",
       "</pre>\n"
      ],
      "text/plain": [
       "\u001b[1m Non-trainable params: \u001b[0m\u001b[38;5;34m0\u001b[0m (0.00 B)\n"
      ]
     },
     "metadata": {},
     "output_type": "display_data"
    }
   ],
   "source": [
    "model.summary()"
   ]
  },
  {
   "cell_type": "markdown",
   "id": "4de92b32-27ce-4b25-ac44-eadf141c8bf9",
   "metadata": {},
   "source": [
    "Recurrent units:\n",
    "\n",
    "\\begin{eqnarray}\n",
    "r^{(t)} &=& \\sigma(W_{hr}h^{(t-1)} + W_{xr}x^{(t)} + b_r) \\\\\n",
    "z^{(t)} &=& \\sigma(W_{hz}h^{(t-1)} + W_{xz}x^{(t)} + b_z) \\\\\n",
    "o^{(t)} &=& \\tanh(W_{ro}(r^{(t)} \\cdot h^{(t-1)}) + W_{xo}x^{(t)} + b_o) = \\tilde{h}^{(t)}\\\\\n",
    "\\end{eqnarray}\n",
    "\n",
    "Hidden state:\n",
    "\n",
    "$$\n",
    "h^{(t)} = (1-z^{(t)}) \\cdot h^{(t-1)} + z^{(t)} \\cdot \\tilde{h}^{(t)}\n",
    "$$\n",
    "\n",
    "**Number of parameters**\n",
    "\n",
    "`W_hr` = `W_hz` = `W_ro` = `output_features` x `output_features`\n",
    "\n",
    "`W_xr` = `W_xz` = `W_xo` `output_features` x `input_features`\n",
    "\n",
    "`b_r` = `b_z` = `b_o` = `output_features`"
   ]
  },
  {
   "cell_type": "code",
   "execution_count": 16,
   "id": "9ee2adde-79cc-47cb-97a4-a97b797e53bb",
   "metadata": {
    "execution": {
     "iopub.execute_input": "2024-05-07T23:11:54.197714Z",
     "iopub.status.busy": "2024-05-07T23:11:54.197045Z",
     "iopub.status.idle": "2024-05-07T23:11:54.208102Z",
     "shell.execute_reply": "2024-05-07T23:11:54.206650Z",
     "shell.execute_reply.started": "2024-05-07T23:11:54.197644Z"
    }
   },
   "outputs": [
    {
     "data": {
      "text/plain": [
       "4128"
      ]
     },
     "execution_count": 16,
     "metadata": {},
     "output_type": "execute_result"
    }
   ],
   "source": [
    "3*(output_features**2 + output_features*input_features + output_features)"
   ]
  },
  {
   "cell_type": "markdown",
   "id": "826f2132-3220-47a6-b02f-490a813dd1ca",
   "metadata": {},
   "source": [
    "### GRU (v1)"
   ]
  },
  {
   "cell_type": "code",
   "execution_count": 17,
   "id": "a2bcb60d-fef4-45c8-a045-9f6e4e2b5e2c",
   "metadata": {
    "execution": {
     "iopub.execute_input": "2024-05-07T23:11:54.210428Z",
     "iopub.status.busy": "2024-05-07T23:11:54.209892Z",
     "iopub.status.idle": "2024-05-07T23:11:54.216815Z",
     "shell.execute_reply": "2024-05-07T23:11:54.215285Z",
     "shell.execute_reply.started": "2024-05-07T23:11:54.210372Z"
    }
   },
   "outputs": [],
   "source": [
    "sequence_length = 120\n",
    "input_features = 10\n",
    "output_features = 32"
   ]
  },
  {
   "cell_type": "code",
   "execution_count": 18,
   "id": "42154931-000c-443e-8273-51a64a0f19ec",
   "metadata": {
    "execution": {
     "iopub.execute_input": "2024-05-07T23:11:54.219115Z",
     "iopub.status.busy": "2024-05-07T23:11:54.218584Z",
     "iopub.status.idle": "2024-05-07T23:11:54.260424Z",
     "shell.execute_reply": "2024-05-07T23:11:54.259353Z",
     "shell.execute_reply.started": "2024-05-07T23:11:54.219060Z"
    }
   },
   "outputs": [],
   "source": [
    "# Forward pass\n",
    "inputs = keras.Input(shape=(sequence_length, input_features))\n",
    "x = layers.GRU(output_features)(inputs)\n",
    "outputs = layers.Dense(1, activation='sigmoid')(x)\n",
    "\n",
    "# Build the model\n",
    "model = keras.Model(inputs, outputs)"
   ]
  },
  {
   "cell_type": "code",
   "execution_count": 19,
   "id": "b30af2b5-f2a8-4c8e-8faa-2d9acfca9471",
   "metadata": {
    "execution": {
     "iopub.execute_input": "2024-05-07T23:11:54.261628Z",
     "iopub.status.busy": "2024-05-07T23:11:54.261362Z",
     "iopub.status.idle": "2024-05-07T23:11:54.279131Z",
     "shell.execute_reply": "2024-05-07T23:11:54.278145Z",
     "shell.execute_reply.started": "2024-05-07T23:11:54.261603Z"
    }
   },
   "outputs": [
    {
     "data": {
      "text/html": [
       "<pre style=\"white-space:pre;overflow-x:auto;line-height:normal;font-family:Menlo,'DejaVu Sans Mono',consolas,'Courier New',monospace\"><span style=\"font-weight: bold\">Model: \"functional_9\"</span>\n",
       "</pre>\n"
      ],
      "text/plain": [
       "\u001b[1mModel: \"functional_9\"\u001b[0m\n"
      ]
     },
     "metadata": {},
     "output_type": "display_data"
    },
    {
     "data": {
      "text/html": [
       "<pre style=\"white-space:pre;overflow-x:auto;line-height:normal;font-family:Menlo,'DejaVu Sans Mono',consolas,'Courier New',monospace\">┏━━━━━━━━━━━━━━━━━━━━━━━━━━━━━━━━━┳━━━━━━━━━━━━━━━━━━━━━━━━┳━━━━━━━━━━━━━━━┓\n",
       "┃<span style=\"font-weight: bold\"> Layer (type)                    </span>┃<span style=\"font-weight: bold\"> Output Shape           </span>┃<span style=\"font-weight: bold\">       Param # </span>┃\n",
       "┡━━━━━━━━━━━━━━━━━━━━━━━━━━━━━━━━━╇━━━━━━━━━━━━━━━━━━━━━━━━╇━━━━━━━━━━━━━━━┩\n",
       "│ input_layer_4 (<span style=\"color: #0087ff; text-decoration-color: #0087ff\">InputLayer</span>)      │ (<span style=\"color: #00d7ff; text-decoration-color: #00d7ff\">None</span>, <span style=\"color: #00af00; text-decoration-color: #00af00\">120</span>, <span style=\"color: #00af00; text-decoration-color: #00af00\">10</span>)        │             <span style=\"color: #00af00; text-decoration-color: #00af00\">0</span> │\n",
       "├─────────────────────────────────┼────────────────────────┼───────────────┤\n",
       "│ gru_1 (<span style=\"color: #0087ff; text-decoration-color: #0087ff\">GRU</span>)                     │ (<span style=\"color: #00d7ff; text-decoration-color: #00d7ff\">None</span>, <span style=\"color: #00af00; text-decoration-color: #00af00\">32</span>)             │         <span style=\"color: #00af00; text-decoration-color: #00af00\">4,224</span> │\n",
       "├─────────────────────────────────┼────────────────────────┼───────────────┤\n",
       "│ dense_4 (<span style=\"color: #0087ff; text-decoration-color: #0087ff\">Dense</span>)                 │ (<span style=\"color: #00d7ff; text-decoration-color: #00d7ff\">None</span>, <span style=\"color: #00af00; text-decoration-color: #00af00\">1</span>)              │            <span style=\"color: #00af00; text-decoration-color: #00af00\">33</span> │\n",
       "└─────────────────────────────────┴────────────────────────┴───────────────┘\n",
       "</pre>\n"
      ],
      "text/plain": [
       "┏━━━━━━━━━━━━━━━━━━━━━━━━━━━━━━━━━┳━━━━━━━━━━━━━━━━━━━━━━━━┳━━━━━━━━━━━━━━━┓\n",
       "┃\u001b[1m \u001b[0m\u001b[1mLayer (type)                   \u001b[0m\u001b[1m \u001b[0m┃\u001b[1m \u001b[0m\u001b[1mOutput Shape          \u001b[0m\u001b[1m \u001b[0m┃\u001b[1m \u001b[0m\u001b[1m      Param #\u001b[0m\u001b[1m \u001b[0m┃\n",
       "┡━━━━━━━━━━━━━━━━━━━━━━━━━━━━━━━━━╇━━━━━━━━━━━━━━━━━━━━━━━━╇━━━━━━━━━━━━━━━┩\n",
       "│ input_layer_4 (\u001b[38;5;33mInputLayer\u001b[0m)      │ (\u001b[38;5;45mNone\u001b[0m, \u001b[38;5;34m120\u001b[0m, \u001b[38;5;34m10\u001b[0m)        │             \u001b[38;5;34m0\u001b[0m │\n",
       "├─────────────────────────────────┼────────────────────────┼───────────────┤\n",
       "│ gru_1 (\u001b[38;5;33mGRU\u001b[0m)                     │ (\u001b[38;5;45mNone\u001b[0m, \u001b[38;5;34m32\u001b[0m)             │         \u001b[38;5;34m4,224\u001b[0m │\n",
       "├─────────────────────────────────┼────────────────────────┼───────────────┤\n",
       "│ dense_4 (\u001b[38;5;33mDense\u001b[0m)                 │ (\u001b[38;5;45mNone\u001b[0m, \u001b[38;5;34m1\u001b[0m)              │            \u001b[38;5;34m33\u001b[0m │\n",
       "└─────────────────────────────────┴────────────────────────┴───────────────┘\n"
      ]
     },
     "metadata": {},
     "output_type": "display_data"
    },
    {
     "data": {
      "text/html": [
       "<pre style=\"white-space:pre;overflow-x:auto;line-height:normal;font-family:Menlo,'DejaVu Sans Mono',consolas,'Courier New',monospace\"><span style=\"font-weight: bold\"> Total params: </span><span style=\"color: #00af00; text-decoration-color: #00af00\">4,257</span> (16.63 KB)\n",
       "</pre>\n"
      ],
      "text/plain": [
       "\u001b[1m Total params: \u001b[0m\u001b[38;5;34m4,257\u001b[0m (16.63 KB)\n"
      ]
     },
     "metadata": {},
     "output_type": "display_data"
    },
    {
     "data": {
      "text/html": [
       "<pre style=\"white-space:pre;overflow-x:auto;line-height:normal;font-family:Menlo,'DejaVu Sans Mono',consolas,'Courier New',monospace\"><span style=\"font-weight: bold\"> Trainable params: </span><span style=\"color: #00af00; text-decoration-color: #00af00\">4,257</span> (16.63 KB)\n",
       "</pre>\n"
      ],
      "text/plain": [
       "\u001b[1m Trainable params: \u001b[0m\u001b[38;5;34m4,257\u001b[0m (16.63 KB)\n"
      ]
     },
     "metadata": {},
     "output_type": "display_data"
    },
    {
     "data": {
      "text/html": [
       "<pre style=\"white-space:pre;overflow-x:auto;line-height:normal;font-family:Menlo,'DejaVu Sans Mono',consolas,'Courier New',monospace\"><span style=\"font-weight: bold\"> Non-trainable params: </span><span style=\"color: #00af00; text-decoration-color: #00af00\">0</span> (0.00 B)\n",
       "</pre>\n"
      ],
      "text/plain": [
       "\u001b[1m Non-trainable params: \u001b[0m\u001b[38;5;34m0\u001b[0m (0.00 B)\n"
      ]
     },
     "metadata": {},
     "output_type": "display_data"
    }
   ],
   "source": [
    "model.summary()"
   ]
  },
  {
   "cell_type": "markdown",
   "id": "413f346b-2a27-4919-aeec-a8c2863597b4",
   "metadata": {},
   "source": [
    "Recurrent units:\n",
    "\n",
    "\\begin{eqnarray}\n",
    "r^{(t)} &=& \\sigma[(W_{hr}h^{(t-1)} + b_{hr}) + (W_{xr}x^{(t)} + b_{xr})] \\\\\n",
    "z^{(t)} &=& \\sigma[(W_{hz}h^{(t-1)} + b_{hz}) + (W_{xz}x^{(t)} + b_{xz})] \\\\\n",
    "o^{(t)} &=& \\tanh(r^{(t)} \\cdot (W_{ro}(h^{(t-1)}) + b_{ro}) + (W_{xo}x^{(t)} + b_{xo})] = \\tilde{h}^{(t)}\\\\\n",
    "\\end{eqnarray}\n",
    "\n",
    "Hidden state:\n",
    "\n",
    "$$\n",
    "h^{(t)} = (1-z^{(t)}) \\cdot h^{(t-1)} + z^{(t)} \\cdot \\tilde{h}^{(t)}\n",
    "$$\n",
    "\n",
    "**Number of parameters**\n",
    "\n",
    "`W_hr` = `W_hz` = `W_ro` = `output_features` x `output_features`\n",
    "\n",
    "`W_xr` = `W_xz` = `W_xo` `output_features` x `input_features`\n",
    "\n",
    "`b_xr` = `b_xz` = `b_xo` = `output_features`\n",
    "\n",
    "`b_hr` = `b_hz` = `b_ho` = `output_features`"
   ]
  },
  {
   "cell_type": "code",
   "execution_count": 20,
   "id": "241bfe1d-9714-43b4-9352-c0e9226175f2",
   "metadata": {
    "execution": {
     "iopub.execute_input": "2024-05-07T23:11:54.280404Z",
     "iopub.status.busy": "2024-05-07T23:11:54.280139Z",
     "iopub.status.idle": "2024-05-07T23:11:54.287589Z",
     "shell.execute_reply": "2024-05-07T23:11:54.286521Z",
     "shell.execute_reply.started": "2024-05-07T23:11:54.280377Z"
    }
   },
   "outputs": [
    {
     "data": {
      "text/plain": [
       "4224"
      ]
     },
     "execution_count": 20,
     "metadata": {},
     "output_type": "execute_result"
    }
   ],
   "source": [
    "3*(output_features**2 + output_features*input_features + 2*output_features)"
   ]
  },
  {
   "cell_type": "markdown",
   "id": "410c4b40-5e52-465b-8b4a-705126f960f8",
   "metadata": {},
   "source": [
    "## Time Series Forecasting using RNNs"
   ]
  },
  {
   "cell_type": "code",
   "execution_count": 21,
   "id": "2efae400-4189-424a-8067-bda285bcf993",
   "metadata": {
    "execution": {
     "iopub.execute_input": "2024-05-07T23:11:54.293915Z",
     "iopub.status.busy": "2024-05-07T23:11:54.293604Z",
     "iopub.status.idle": "2024-05-07T23:11:54.867236Z",
     "shell.execute_reply": "2024-05-07T23:11:54.866185Z",
     "shell.execute_reply.started": "2024-05-07T23:11:54.293883Z"
    }
   },
   "outputs": [],
   "source": [
    "import pandas as pd\n",
    "import matplotlib.pyplot as plt\n",
    "from matplotlib import rcParams\n",
    "\n",
    "rcParams.update({\n",
    "    'axes.spines.top': False,\n",
    "    'axes.spines.right': False\n",
    "})"
   ]
  },
  {
   "cell_type": "markdown",
   "id": "d4532743-aea9-493b-9373-828dd8e1ced0",
   "metadata": {},
   "source": [
    "### Data Loading"
   ]
  },
  {
   "cell_type": "code",
   "execution_count": 22,
   "id": "3e38951d-2cf8-4ed3-8762-2558817ad349",
   "metadata": {
    "execution": {
     "iopub.execute_input": "2024-05-07T23:11:54.868589Z",
     "iopub.status.busy": "2024-05-07T23:11:54.868174Z",
     "iopub.status.idle": "2024-05-07T23:11:54.873821Z",
     "shell.execute_reply": "2024-05-07T23:11:54.872747Z",
     "shell.execute_reply.started": "2024-05-07T23:11:54.868562Z"
    }
   },
   "outputs": [],
   "source": [
    "# # Uncomment to download data\n",
    "# !wget https://s3.amazonaws.com/keras-datasets/jena_climate_2009_2016.csv.zip\n",
    "# !unzip jena_climate_2009_2016.csv.zip"
   ]
  },
  {
   "cell_type": "markdown",
   "id": "ed04465f-23b9-4517-bbbf-12602fa68bf6",
   "metadata": {},
   "source": [
    "The dataset comprise of 14 different quantities (such as temperature, pressure, humidity, wind direction, etc.) recorded every 10 minutes over several years.\n",
    "\n",
    "Problem formulation: given data covering the previous five days and sampled once per hour, can we predict the temperature in the next 24 hours?"
   ]
  },
  {
   "cell_type": "code",
   "execution_count": 23,
   "id": "e2719edd-8a9c-4f3c-9357-95ed35046cda",
   "metadata": {
    "execution": {
     "iopub.execute_input": "2024-05-07T23:11:54.875100Z",
     "iopub.status.busy": "2024-05-07T23:11:54.874862Z",
     "iopub.status.idle": "2024-05-07T23:11:55.579204Z",
     "shell.execute_reply": "2024-05-07T23:11:55.577386Z",
     "shell.execute_reply.started": "2024-05-07T23:11:54.875076Z"
    }
   },
   "outputs": [],
   "source": [
    "data = pd.read_csv('jena_climate_2009_2016.csv').iloc[:, 1:]"
   ]
  },
  {
   "cell_type": "markdown",
   "id": "8c5028ec-d1d3-4b83-ba94-9cb3dbc49c13",
   "metadata": {},
   "source": [
    "### Data Exploration"
   ]
  },
  {
   "cell_type": "code",
   "execution_count": 24,
   "id": "f29756b9-943c-4cee-a077-96b5ae0786df",
   "metadata": {
    "execution": {
     "iopub.execute_input": "2024-05-07T23:11:55.580764Z",
     "iopub.status.busy": "2024-05-07T23:11:55.580497Z",
     "iopub.status.idle": "2024-05-07T23:11:55.610635Z",
     "shell.execute_reply": "2024-05-07T23:11:55.609215Z",
     "shell.execute_reply.started": "2024-05-07T23:11:55.580739Z"
    }
   },
   "outputs": [
    {
     "data": {
      "text/html": [
       "<div>\n",
       "<style scoped>\n",
       "    .dataframe tbody tr th:only-of-type {\n",
       "        vertical-align: middle;\n",
       "    }\n",
       "\n",
       "    .dataframe tbody tr th {\n",
       "        vertical-align: top;\n",
       "    }\n",
       "\n",
       "    .dataframe thead th {\n",
       "        text-align: right;\n",
       "    }\n",
       "</style>\n",
       "<table border=\"1\" class=\"dataframe\">\n",
       "  <thead>\n",
       "    <tr style=\"text-align: right;\">\n",
       "      <th></th>\n",
       "      <th>p (mbar)</th>\n",
       "      <th>T (degC)</th>\n",
       "      <th>Tpot (K)</th>\n",
       "      <th>Tdew (degC)</th>\n",
       "      <th>rh (%)</th>\n",
       "      <th>VPmax (mbar)</th>\n",
       "      <th>VPact (mbar)</th>\n",
       "      <th>VPdef (mbar)</th>\n",
       "      <th>sh (g/kg)</th>\n",
       "      <th>H2OC (mmol/mol)</th>\n",
       "      <th>rho (g/m**3)</th>\n",
       "      <th>wv (m/s)</th>\n",
       "      <th>max. wv (m/s)</th>\n",
       "      <th>wd (deg)</th>\n",
       "    </tr>\n",
       "  </thead>\n",
       "  <tbody>\n",
       "    <tr>\n",
       "      <th>0</th>\n",
       "      <td>996.52</td>\n",
       "      <td>-8.02</td>\n",
       "      <td>265.40</td>\n",
       "      <td>-8.90</td>\n",
       "      <td>93.30</td>\n",
       "      <td>3.33</td>\n",
       "      <td>3.11</td>\n",
       "      <td>0.22</td>\n",
       "      <td>1.94</td>\n",
       "      <td>3.12</td>\n",
       "      <td>1307.75</td>\n",
       "      <td>1.03</td>\n",
       "      <td>1.75</td>\n",
       "      <td>152.3</td>\n",
       "    </tr>\n",
       "    <tr>\n",
       "      <th>1</th>\n",
       "      <td>996.57</td>\n",
       "      <td>-8.41</td>\n",
       "      <td>265.01</td>\n",
       "      <td>-9.28</td>\n",
       "      <td>93.40</td>\n",
       "      <td>3.23</td>\n",
       "      <td>3.02</td>\n",
       "      <td>0.21</td>\n",
       "      <td>1.89</td>\n",
       "      <td>3.03</td>\n",
       "      <td>1309.80</td>\n",
       "      <td>0.72</td>\n",
       "      <td>1.50</td>\n",
       "      <td>136.1</td>\n",
       "    </tr>\n",
       "    <tr>\n",
       "      <th>2</th>\n",
       "      <td>996.53</td>\n",
       "      <td>-8.51</td>\n",
       "      <td>264.91</td>\n",
       "      <td>-9.31</td>\n",
       "      <td>93.90</td>\n",
       "      <td>3.21</td>\n",
       "      <td>3.01</td>\n",
       "      <td>0.20</td>\n",
       "      <td>1.88</td>\n",
       "      <td>3.02</td>\n",
       "      <td>1310.24</td>\n",
       "      <td>0.19</td>\n",
       "      <td>0.63</td>\n",
       "      <td>171.6</td>\n",
       "    </tr>\n",
       "    <tr>\n",
       "      <th>3</th>\n",
       "      <td>996.51</td>\n",
       "      <td>-8.31</td>\n",
       "      <td>265.12</td>\n",
       "      <td>-9.07</td>\n",
       "      <td>94.20</td>\n",
       "      <td>3.26</td>\n",
       "      <td>3.07</td>\n",
       "      <td>0.19</td>\n",
       "      <td>1.92</td>\n",
       "      <td>3.08</td>\n",
       "      <td>1309.19</td>\n",
       "      <td>0.34</td>\n",
       "      <td>0.50</td>\n",
       "      <td>198.0</td>\n",
       "    </tr>\n",
       "    <tr>\n",
       "      <th>4</th>\n",
       "      <td>996.51</td>\n",
       "      <td>-8.27</td>\n",
       "      <td>265.15</td>\n",
       "      <td>-9.04</td>\n",
       "      <td>94.10</td>\n",
       "      <td>3.27</td>\n",
       "      <td>3.08</td>\n",
       "      <td>0.19</td>\n",
       "      <td>1.92</td>\n",
       "      <td>3.09</td>\n",
       "      <td>1309.00</td>\n",
       "      <td>0.32</td>\n",
       "      <td>0.63</td>\n",
       "      <td>214.3</td>\n",
       "    </tr>\n",
       "    <tr>\n",
       "      <th>...</th>\n",
       "      <td>...</td>\n",
       "      <td>...</td>\n",
       "      <td>...</td>\n",
       "      <td>...</td>\n",
       "      <td>...</td>\n",
       "      <td>...</td>\n",
       "      <td>...</td>\n",
       "      <td>...</td>\n",
       "      <td>...</td>\n",
       "      <td>...</td>\n",
       "      <td>...</td>\n",
       "      <td>...</td>\n",
       "      <td>...</td>\n",
       "      <td>...</td>\n",
       "    </tr>\n",
       "    <tr>\n",
       "      <th>420446</th>\n",
       "      <td>1000.07</td>\n",
       "      <td>-4.05</td>\n",
       "      <td>269.10</td>\n",
       "      <td>-8.13</td>\n",
       "      <td>73.10</td>\n",
       "      <td>4.52</td>\n",
       "      <td>3.30</td>\n",
       "      <td>1.22</td>\n",
       "      <td>2.06</td>\n",
       "      <td>3.30</td>\n",
       "      <td>1292.98</td>\n",
       "      <td>0.67</td>\n",
       "      <td>1.52</td>\n",
       "      <td>240.0</td>\n",
       "    </tr>\n",
       "    <tr>\n",
       "      <th>420447</th>\n",
       "      <td>999.93</td>\n",
       "      <td>-3.35</td>\n",
       "      <td>269.81</td>\n",
       "      <td>-8.06</td>\n",
       "      <td>69.71</td>\n",
       "      <td>4.77</td>\n",
       "      <td>3.32</td>\n",
       "      <td>1.44</td>\n",
       "      <td>2.07</td>\n",
       "      <td>3.32</td>\n",
       "      <td>1289.44</td>\n",
       "      <td>1.14</td>\n",
       "      <td>1.92</td>\n",
       "      <td>234.3</td>\n",
       "    </tr>\n",
       "    <tr>\n",
       "      <th>420448</th>\n",
       "      <td>999.82</td>\n",
       "      <td>-3.16</td>\n",
       "      <td>270.01</td>\n",
       "      <td>-8.21</td>\n",
       "      <td>67.91</td>\n",
       "      <td>4.84</td>\n",
       "      <td>3.28</td>\n",
       "      <td>1.55</td>\n",
       "      <td>2.05</td>\n",
       "      <td>3.28</td>\n",
       "      <td>1288.39</td>\n",
       "      <td>1.08</td>\n",
       "      <td>2.00</td>\n",
       "      <td>215.2</td>\n",
       "    </tr>\n",
       "    <tr>\n",
       "      <th>420449</th>\n",
       "      <td>999.81</td>\n",
       "      <td>-4.23</td>\n",
       "      <td>268.94</td>\n",
       "      <td>-8.53</td>\n",
       "      <td>71.80</td>\n",
       "      <td>4.46</td>\n",
       "      <td>3.20</td>\n",
       "      <td>1.26</td>\n",
       "      <td>1.99</td>\n",
       "      <td>3.20</td>\n",
       "      <td>1293.56</td>\n",
       "      <td>1.49</td>\n",
       "      <td>2.16</td>\n",
       "      <td>225.8</td>\n",
       "    </tr>\n",
       "    <tr>\n",
       "      <th>420450</th>\n",
       "      <td>999.82</td>\n",
       "      <td>-4.82</td>\n",
       "      <td>268.36</td>\n",
       "      <td>-8.42</td>\n",
       "      <td>75.70</td>\n",
       "      <td>4.27</td>\n",
       "      <td>3.23</td>\n",
       "      <td>1.04</td>\n",
       "      <td>2.01</td>\n",
       "      <td>3.23</td>\n",
       "      <td>1296.38</td>\n",
       "      <td>1.23</td>\n",
       "      <td>1.96</td>\n",
       "      <td>184.9</td>\n",
       "    </tr>\n",
       "  </tbody>\n",
       "</table>\n",
       "<p>420451 rows × 14 columns</p>\n",
       "</div>"
      ],
      "text/plain": [
       "        p (mbar)  T (degC)  Tpot (K)  Tdew (degC)  rh (%)  VPmax (mbar)  \\\n",
       "0         996.52     -8.02    265.40        -8.90   93.30          3.33   \n",
       "1         996.57     -8.41    265.01        -9.28   93.40          3.23   \n",
       "2         996.53     -8.51    264.91        -9.31   93.90          3.21   \n",
       "3         996.51     -8.31    265.12        -9.07   94.20          3.26   \n",
       "4         996.51     -8.27    265.15        -9.04   94.10          3.27   \n",
       "...          ...       ...       ...          ...     ...           ...   \n",
       "420446   1000.07     -4.05    269.10        -8.13   73.10          4.52   \n",
       "420447    999.93     -3.35    269.81        -8.06   69.71          4.77   \n",
       "420448    999.82     -3.16    270.01        -8.21   67.91          4.84   \n",
       "420449    999.81     -4.23    268.94        -8.53   71.80          4.46   \n",
       "420450    999.82     -4.82    268.36        -8.42   75.70          4.27   \n",
       "\n",
       "        VPact (mbar)  VPdef (mbar)  sh (g/kg)  H2OC (mmol/mol)  rho (g/m**3)  \\\n",
       "0               3.11          0.22       1.94             3.12       1307.75   \n",
       "1               3.02          0.21       1.89             3.03       1309.80   \n",
       "2               3.01          0.20       1.88             3.02       1310.24   \n",
       "3               3.07          0.19       1.92             3.08       1309.19   \n",
       "4               3.08          0.19       1.92             3.09       1309.00   \n",
       "...              ...           ...        ...              ...           ...   \n",
       "420446          3.30          1.22       2.06             3.30       1292.98   \n",
       "420447          3.32          1.44       2.07             3.32       1289.44   \n",
       "420448          3.28          1.55       2.05             3.28       1288.39   \n",
       "420449          3.20          1.26       1.99             3.20       1293.56   \n",
       "420450          3.23          1.04       2.01             3.23       1296.38   \n",
       "\n",
       "        wv (m/s)  max. wv (m/s)  wd (deg)  \n",
       "0           1.03           1.75     152.3  \n",
       "1           0.72           1.50     136.1  \n",
       "2           0.19           0.63     171.6  \n",
       "3           0.34           0.50     198.0  \n",
       "4           0.32           0.63     214.3  \n",
       "...          ...            ...       ...  \n",
       "420446      0.67           1.52     240.0  \n",
       "420447      1.14           1.92     234.3  \n",
       "420448      1.08           2.00     215.2  \n",
       "420449      1.49           2.16     225.8  \n",
       "420450      1.23           1.96     184.9  \n",
       "\n",
       "[420451 rows x 14 columns]"
      ]
     },
     "execution_count": 24,
     "metadata": {},
     "output_type": "execute_result"
    }
   ],
   "source": [
    "data"
   ]
  },
  {
   "cell_type": "code",
   "execution_count": 25,
   "id": "1ed76b24-394a-4855-b9d4-3d3fbaeddeb5",
   "metadata": {
    "execution": {
     "iopub.execute_input": "2024-05-07T23:11:55.613054Z",
     "iopub.status.busy": "2024-05-07T23:11:55.612541Z",
     "iopub.status.idle": "2024-05-07T23:11:55.877146Z",
     "shell.execute_reply": "2024-05-07T23:11:55.875964Z",
     "shell.execute_reply.started": "2024-05-07T23:11:55.613001Z"
    }
   },
   "outputs": [
    {
     "data": {
      "text/html": [
       "<div>\n",
       "<style scoped>\n",
       "    .dataframe tbody tr th:only-of-type {\n",
       "        vertical-align: middle;\n",
       "    }\n",
       "\n",
       "    .dataframe tbody tr th {\n",
       "        vertical-align: top;\n",
       "    }\n",
       "\n",
       "    .dataframe thead th {\n",
       "        text-align: right;\n",
       "    }\n",
       "</style>\n",
       "<table border=\"1\" class=\"dataframe\">\n",
       "  <thead>\n",
       "    <tr style=\"text-align: right;\">\n",
       "      <th></th>\n",
       "      <th>p (mbar)</th>\n",
       "      <th>T (degC)</th>\n",
       "      <th>Tpot (K)</th>\n",
       "      <th>Tdew (degC)</th>\n",
       "      <th>rh (%)</th>\n",
       "      <th>VPmax (mbar)</th>\n",
       "      <th>VPact (mbar)</th>\n",
       "      <th>VPdef (mbar)</th>\n",
       "      <th>sh (g/kg)</th>\n",
       "      <th>H2OC (mmol/mol)</th>\n",
       "      <th>rho (g/m**3)</th>\n",
       "      <th>wv (m/s)</th>\n",
       "      <th>max. wv (m/s)</th>\n",
       "      <th>wd (deg)</th>\n",
       "    </tr>\n",
       "  </thead>\n",
       "  <tbody>\n",
       "    <tr>\n",
       "      <th>count</th>\n",
       "      <td>420451.000000</td>\n",
       "      <td>420451.000000</td>\n",
       "      <td>420451.000000</td>\n",
       "      <td>420451.000000</td>\n",
       "      <td>420451.000000</td>\n",
       "      <td>420451.000000</td>\n",
       "      <td>420451.000000</td>\n",
       "      <td>420451.000000</td>\n",
       "      <td>420451.000000</td>\n",
       "      <td>420451.000000</td>\n",
       "      <td>420451.000000</td>\n",
       "      <td>420451.000000</td>\n",
       "      <td>420451.000000</td>\n",
       "      <td>420451.000000</td>\n",
       "    </tr>\n",
       "    <tr>\n",
       "      <th>mean</th>\n",
       "      <td>989.212508</td>\n",
       "      <td>9.448567</td>\n",
       "      <td>283.491182</td>\n",
       "      <td>4.954011</td>\n",
       "      <td>76.007045</td>\n",
       "      <td>13.575089</td>\n",
       "      <td>9.532524</td>\n",
       "      <td>4.042483</td>\n",
       "      <td>6.021630</td>\n",
       "      <td>9.638982</td>\n",
       "      <td>1216.069883</td>\n",
       "      <td>2.130309</td>\n",
       "      <td>3.532381</td>\n",
       "      <td>174.726164</td>\n",
       "    </tr>\n",
       "    <tr>\n",
       "      <th>std</th>\n",
       "      <td>8.359454</td>\n",
       "      <td>8.423685</td>\n",
       "      <td>8.504820</td>\n",
       "      <td>6.730411</td>\n",
       "      <td>16.477126</td>\n",
       "      <td>7.739481</td>\n",
       "      <td>4.183895</td>\n",
       "      <td>4.897270</td>\n",
       "      <td>2.655973</td>\n",
       "      <td>4.235130</td>\n",
       "      <td>39.977065</td>\n",
       "      <td>1.541830</td>\n",
       "      <td>2.340482</td>\n",
       "      <td>86.675965</td>\n",
       "    </tr>\n",
       "    <tr>\n",
       "      <th>min</th>\n",
       "      <td>913.600000</td>\n",
       "      <td>-23.010000</td>\n",
       "      <td>250.600000</td>\n",
       "      <td>-25.010000</td>\n",
       "      <td>12.950000</td>\n",
       "      <td>0.950000</td>\n",
       "      <td>0.790000</td>\n",
       "      <td>0.000000</td>\n",
       "      <td>0.500000</td>\n",
       "      <td>0.800000</td>\n",
       "      <td>1059.450000</td>\n",
       "      <td>0.000000</td>\n",
       "      <td>0.000000</td>\n",
       "      <td>0.000000</td>\n",
       "    </tr>\n",
       "    <tr>\n",
       "      <th>25%</th>\n",
       "      <td>984.200000</td>\n",
       "      <td>3.360000</td>\n",
       "      <td>277.430000</td>\n",
       "      <td>0.240000</td>\n",
       "      <td>65.210000</td>\n",
       "      <td>7.780000</td>\n",
       "      <td>6.210000</td>\n",
       "      <td>0.870000</td>\n",
       "      <td>3.920000</td>\n",
       "      <td>6.290000</td>\n",
       "      <td>1187.490000</td>\n",
       "      <td>0.990000</td>\n",
       "      <td>1.760000</td>\n",
       "      <td>124.800000</td>\n",
       "    </tr>\n",
       "    <tr>\n",
       "      <th>50%</th>\n",
       "      <td>989.570000</td>\n",
       "      <td>9.410000</td>\n",
       "      <td>283.460000</td>\n",
       "      <td>5.210000</td>\n",
       "      <td>79.300000</td>\n",
       "      <td>11.820000</td>\n",
       "      <td>8.860000</td>\n",
       "      <td>2.190000</td>\n",
       "      <td>5.590000</td>\n",
       "      <td>8.960000</td>\n",
       "      <td>1213.800000</td>\n",
       "      <td>1.760000</td>\n",
       "      <td>2.960000</td>\n",
       "      <td>198.100000</td>\n",
       "    </tr>\n",
       "    <tr>\n",
       "      <th>75%</th>\n",
       "      <td>994.720000</td>\n",
       "      <td>15.470000</td>\n",
       "      <td>289.530000</td>\n",
       "      <td>10.070000</td>\n",
       "      <td>89.400000</td>\n",
       "      <td>17.600000</td>\n",
       "      <td>12.350000</td>\n",
       "      <td>5.300000</td>\n",
       "      <td>7.800000</td>\n",
       "      <td>12.480000</td>\n",
       "      <td>1242.770000</td>\n",
       "      <td>2.860000</td>\n",
       "      <td>4.740000</td>\n",
       "      <td>234.100000</td>\n",
       "    </tr>\n",
       "    <tr>\n",
       "      <th>max</th>\n",
       "      <td>1015.350000</td>\n",
       "      <td>37.280000</td>\n",
       "      <td>311.340000</td>\n",
       "      <td>23.110000</td>\n",
       "      <td>100.000000</td>\n",
       "      <td>63.770000</td>\n",
       "      <td>28.320000</td>\n",
       "      <td>46.010000</td>\n",
       "      <td>18.130000</td>\n",
       "      <td>28.820000</td>\n",
       "      <td>1393.540000</td>\n",
       "      <td>14.630000</td>\n",
       "      <td>23.500000</td>\n",
       "      <td>360.000000</td>\n",
       "    </tr>\n",
       "  </tbody>\n",
       "</table>\n",
       "</div>"
      ],
      "text/plain": [
       "            p (mbar)       T (degC)       Tpot (K)    Tdew (degC)  \\\n",
       "count  420451.000000  420451.000000  420451.000000  420451.000000   \n",
       "mean      989.212508       9.448567     283.491182       4.954011   \n",
       "std         8.359454       8.423685       8.504820       6.730411   \n",
       "min       913.600000     -23.010000     250.600000     -25.010000   \n",
       "25%       984.200000       3.360000     277.430000       0.240000   \n",
       "50%       989.570000       9.410000     283.460000       5.210000   \n",
       "75%       994.720000      15.470000     289.530000      10.070000   \n",
       "max      1015.350000      37.280000     311.340000      23.110000   \n",
       "\n",
       "              rh (%)   VPmax (mbar)   VPact (mbar)   VPdef (mbar)  \\\n",
       "count  420451.000000  420451.000000  420451.000000  420451.000000   \n",
       "mean       76.007045      13.575089       9.532524       4.042483   \n",
       "std        16.477126       7.739481       4.183895       4.897270   \n",
       "min        12.950000       0.950000       0.790000       0.000000   \n",
       "25%        65.210000       7.780000       6.210000       0.870000   \n",
       "50%        79.300000      11.820000       8.860000       2.190000   \n",
       "75%        89.400000      17.600000      12.350000       5.300000   \n",
       "max       100.000000      63.770000      28.320000      46.010000   \n",
       "\n",
       "           sh (g/kg)  H2OC (mmol/mol)   rho (g/m**3)       wv (m/s)  \\\n",
       "count  420451.000000    420451.000000  420451.000000  420451.000000   \n",
       "mean        6.021630         9.638982    1216.069883       2.130309   \n",
       "std         2.655973         4.235130      39.977065       1.541830   \n",
       "min         0.500000         0.800000    1059.450000       0.000000   \n",
       "25%         3.920000         6.290000    1187.490000       0.990000   \n",
       "50%         5.590000         8.960000    1213.800000       1.760000   \n",
       "75%         7.800000        12.480000    1242.770000       2.860000   \n",
       "max        18.130000        28.820000    1393.540000      14.630000   \n",
       "\n",
       "       max. wv (m/s)       wd (deg)  \n",
       "count  420451.000000  420451.000000  \n",
       "mean        3.532381     174.726164  \n",
       "std         2.340482      86.675965  \n",
       "min         0.000000       0.000000  \n",
       "25%         1.760000     124.800000  \n",
       "50%         2.960000     198.100000  \n",
       "75%         4.740000     234.100000  \n",
       "max        23.500000     360.000000  "
      ]
     },
     "execution_count": 25,
     "metadata": {},
     "output_type": "execute_result"
    }
   ],
   "source": [
    "data.describe()"
   ]
  },
  {
   "cell_type": "code",
   "execution_count": 26,
   "id": "fc972e05-3590-44bf-9d18-001bfa9bb3de",
   "metadata": {
    "execution": {
     "iopub.execute_input": "2024-05-07T23:11:55.878509Z",
     "iopub.status.busy": "2024-05-07T23:11:55.878247Z",
     "iopub.status.idle": "2024-05-07T23:11:56.240250Z",
     "shell.execute_reply": "2024-05-07T23:11:56.239156Z",
     "shell.execute_reply.started": "2024-05-07T23:11:55.878485Z"
    }
   },
   "outputs": [
    {
     "data": {
      "image/png": "[encoded data removed]",
      "text/plain": [
       "<Figure size 640x480 with 1 Axes>"
      ]
     },
     "metadata": {},
     "output_type": "display_data"
    }
   ],
   "source": [
    "ax = data['T (degC)'].plot()\n",
    "ax.set_ylabel('Temperature (degC)')\n",
    "ax.set_xlabel('Index');"
   ]
  },
  {
   "cell_type": "markdown",
   "id": "384d736d-ceb6-42ef-a0ab-d1d43db4342e",
   "metadata": {},
   "source": [
    "### Data Segregation"
   ]
  },
  {
   "cell_type": "code",
   "execution_count": 27,
   "id": "68b5747e-2c39-43a3-a3be-3245918e40e6",
   "metadata": {
    "execution": {
     "iopub.execute_input": "2024-05-07T23:11:56.241382Z",
     "iopub.status.busy": "2024-05-07T23:11:56.241167Z",
     "iopub.status.idle": "2024-05-07T23:11:56.246714Z",
     "shell.execute_reply": "2024-05-07T23:11:56.245634Z",
     "shell.execute_reply.started": "2024-05-07T23:11:56.241360Z"
    }
   },
   "outputs": [],
   "source": [
    "num_train_samples = int(0.5 * len(data))\n",
    "num_val_samples = int(0.25 * len(data))\n",
    "num_test_samples = len(data) - num_train_samples - num_val_samples"
   ]
  },
  {
   "cell_type": "code",
   "execution_count": 28,
   "id": "af367414-f7d8-4569-a271-e3dfb14cdf0c",
   "metadata": {
    "execution": {
     "iopub.execute_input": "2024-05-07T23:11:56.247965Z",
     "iopub.status.busy": "2024-05-07T23:11:56.247707Z",
     "iopub.status.idle": "2024-05-07T23:11:56.258401Z",
     "shell.execute_reply": "2024-05-07T23:11:56.257050Z",
     "shell.execute_reply.started": "2024-05-07T23:11:56.247940Z"
    }
   },
   "outputs": [
    {
     "name": "stdout",
     "output_type": "stream",
     "text": [
      "Number of Training Samples: 210225\n",
      "Number of Validation Samples: 105112\n",
      "Number of Test Samples: 105114\n"
     ]
    }
   ],
   "source": [
    "print(f\"Number of Training Samples: {num_train_samples}\")\n",
    "print(f\"Number of Validation Samples: {num_val_samples}\")\n",
    "print(f\"Number of Test Samples: {num_test_samples}\")"
   ]
  },
  {
   "cell_type": "markdown",
   "id": "07cd3342-611e-4c0e-bb55-c0e39cf62abc",
   "metadata": {},
   "source": [
    "### Data Preparation"
   ]
  },
  {
   "cell_type": "code",
   "execution_count": 29,
   "id": "ab3e1355-e9e8-4f32-812f-e6d32a43cd3e",
   "metadata": {
    "execution": {
     "iopub.execute_input": "2024-05-07T23:11:56.259904Z",
     "iopub.status.busy": "2024-05-07T23:11:56.259584Z",
     "iopub.status.idle": "2024-05-07T23:11:56.383370Z",
     "shell.execute_reply": "2024-05-07T23:11:56.381861Z",
     "shell.execute_reply.started": "2024-05-07T23:11:56.259871Z"
    }
   },
   "outputs": [],
   "source": [
    "# Data normalization\n",
    "mean = data.mean()\n",
    "std = data.std()\n",
    "raw_data = (data - mean) / std"
   ]
  },
  {
   "cell_type": "markdown",
   "id": "06ef9a4f-eb34-4436-ae05-3b5dd94eba31",
   "metadata": {},
   "source": [
    "Utilize `timeseries_dataset_from_array()` with the following parameters:\n",
    "\n",
    "`sampling_rate`: `6` - observations will be sampled at one data point per hour. We will only keep one data point out of 6.\n",
    "`sequence_length`: `120` - observations will go back 5 days (120 hours).\n",
    "`delay`: `sampling_rate * (sequence_length + 24 - 1)` - The target for a sequence will be the temperature 24 hours after the end of the sequence."
   ]
  },
  {
   "cell_type": "code",
   "execution_count": 30,
   "id": "41470ea7-0c61-4a0a-aba6-7cb438cfb628",
   "metadata": {
    "execution": {
     "iopub.execute_input": "2024-05-07T23:11:56.384727Z",
     "iopub.status.busy": "2024-05-07T23:11:56.384494Z",
     "iopub.status.idle": "2024-05-07T23:11:56.389653Z",
     "shell.execute_reply": "2024-05-07T23:11:56.388690Z",
     "shell.execute_reply.started": "2024-05-07T23:11:56.384705Z"
    }
   },
   "outputs": [],
   "source": [
    "sampling_rate = 6\n",
    "sequence_length = 120\n",
    "delay = sampling_rate * (sequence_length + 24 - 1)\n",
    "batch_size = 256"
   ]
  },
  {
   "cell_type": "code",
   "execution_count": 31,
   "id": "3a35d4ad-73f8-4626-9f5d-0b94990495fb",
   "metadata": {
    "execution": {
     "iopub.execute_input": "2024-05-07T23:11:56.390871Z",
     "iopub.status.busy": "2024-05-07T23:11:56.390638Z",
     "iopub.status.idle": "2024-05-07T23:11:56.400181Z",
     "shell.execute_reply": "2024-05-07T23:11:56.398431Z",
     "shell.execute_reply.started": "2024-05-07T23:11:56.390847Z"
    },
    "scrolled": true
   },
   "outputs": [
    {
     "name": "stdout",
     "output_type": "stream",
     "text": [
      "Help on function timeseries_dataset_from_array in module keras.src.utils.timeseries_dataset_utils:\n",
      "\n",
      "timeseries_dataset_from_array(data, targets, sequence_length, sequence_stride=1, sampling_rate=1, batch_size=128, shuffle=False, seed=None, start_index=None, end_index=None)\n",
      "    Creates a dataset of sliding windows over a timeseries provided as array.\n",
      "    \n",
      "    This function takes in a sequence of data-points gathered at\n",
      "    equal intervals, along with time series parameters such as\n",
      "    length of the sequences/windows, spacing between two sequence/windows, etc.,\n",
      "    to produce batches of timeseries inputs and targets.\n",
      "    \n",
      "    Args:\n",
      "        data: Numpy array or eager tensor\n",
      "            containing consecutive data points (timesteps).\n",
      "            Axis 0 is expected to be the time dimension.\n",
      "        targets: Targets corresponding to timesteps in `data`.\n",
      "            `targets[i]` should be the target\n",
      "            corresponding to the window that starts at index `i`\n",
      "            (see example 2 below).\n",
      "            Pass `None` if you don't have target data (in this case the dataset\n",
      "            will only yield the input data).\n",
      "        sequence_length: Length of the output sequences\n",
      "            (in number of timesteps).\n",
      "        sequence_stride: Period between successive output sequences.\n",
      "            For stride `s`, output samples would\n",
      "            start at index `data[i]`, `data[i + s]`, `data[i + 2 * s]`, etc.\n",
      "        sampling_rate: Period between successive individual timesteps\n",
      "            within sequences. For rate `r`, timesteps\n",
      "            `data[i], data[i + r], ... data[i + sequence_length]`\n",
      "            are used for creating a sample sequence.\n",
      "        batch_size: Number of timeseries samples in each batch\n",
      "            (except maybe the last one). If `None`, the data will not be batched\n",
      "            (the dataset will yield individual samples).\n",
      "        shuffle: Whether to shuffle output samples,\n",
      "            or instead draw them in chronological order.\n",
      "        seed: Optional int; random seed for shuffling.\n",
      "        start_index: Optional int; data points earlier (exclusive)\n",
      "            than `start_index` will not be used\n",
      "            in the output sequences. This is useful to reserve part of the\n",
      "            data for test or validation.\n",
      "        end_index: Optional int; data points later (exclusive) than `end_index`\n",
      "            will not be used in the output sequences.\n",
      "            This is useful to reserve part of the data for test or validation.\n",
      "    \n",
      "    Returns:\n",
      "    \n",
      "    A `tf.data.Dataset` instance. If `targets` was passed, the dataset yields\n",
      "    tuple `(batch_of_sequences, batch_of_targets)`. If not, the dataset yields\n",
      "    only `batch_of_sequences`.\n",
      "    \n",
      "    Example 1:\n",
      "    \n",
      "    Consider indices `[0, 1, ... 98]`.\n",
      "    With `sequence_length=10,  sampling_rate=2, sequence_stride=3`,\n",
      "    `shuffle=False`, the dataset will yield batches of sequences\n",
      "    composed of the following indices:\n",
      "    \n",
      "    ```\n",
      "    First sequence:  [0  2  4  6  8 10 12 14 16 18]\n",
      "    Second sequence: [3  5  7  9 11 13 15 17 19 21]\n",
      "    Third sequence:  [6  8 10 12 14 16 18 20 22 24]\n",
      "    ...\n",
      "    Last sequence:   [78 80 82 84 86 88 90 92 94 96]\n",
      "    ```\n",
      "    \n",
      "    In this case the last 2 data points are discarded since no full sequence\n",
      "    can be generated to include them (the next sequence would have started\n",
      "    at index 81, and thus its last step would have gone over 98).\n",
      "    \n",
      "    Example 2: Temporal regression.\n",
      "    \n",
      "    Consider an array `data` of scalar values, of shape `(steps,)`.\n",
      "    To generate a dataset that uses the past 10\n",
      "    timesteps to predict the next timestep, you would use:\n",
      "    \n",
      "    ```python\n",
      "    input_data = data[:-10]\n",
      "    targets = data[10:]\n",
      "    dataset = timeseries_dataset_from_array(\n",
      "        input_data, targets, sequence_length=10)\n",
      "    for batch in dataset:\n",
      "      inputs, targets = batch\n",
      "      assert np.array_equal(inputs[0], data[:10])  # First sequence: steps [0-9]\n",
      "      # Corresponding target: step 10\n",
      "      assert np.array_equal(targets[0], data[10])\n",
      "      break\n",
      "    ```\n",
      "    \n",
      "    Example 3: Temporal regression for many-to-many architectures.\n",
      "    \n",
      "    Consider two arrays of scalar values `X` and `Y`,\n",
      "    both of shape `(100,)`. The resulting dataset should consist samples with\n",
      "    20 timestamps each. The samples should not overlap.\n",
      "    To generate a dataset that uses the current timestamp\n",
      "    to predict the corresponding target timestep, you would use:\n",
      "    \n",
      "    ```python\n",
      "    X = np.arange(100)\n",
      "    Y = X*2\n",
      "    \n",
      "    sample_length = 20\n",
      "    input_dataset = timeseries_dataset_from_array(\n",
      "        X, None, sequence_length=sample_length, sequence_stride=sample_length)\n",
      "    target_dataset = timeseries_dataset_from_array(\n",
      "        Y, None, sequence_length=sample_length, sequence_stride=sample_length)\n",
      "    \n",
      "    for batch in zip(input_dataset, target_dataset):\n",
      "        inputs, targets = batch\n",
      "        assert np.array_equal(inputs[0], X[:sample_length])\n",
      "    \n",
      "        # second sample equals output timestamps 20-40\n",
      "        assert np.array_equal(targets[1], Y[sample_length:2*sample_length])\n",
      "        break\n",
      "    ```\n",
      "\n"
     ]
    }
   ],
   "source": [
    "help(keras.utils.timeseries_dataset_from_array)"
   ]
  },
  {
   "cell_type": "code",
   "execution_count": 32,
   "id": "34e45b5e-2b27-45f9-9d05-b70ccf3f6b69",
   "metadata": {
    "execution": {
     "iopub.execute_input": "2024-05-07T23:11:56.401984Z",
     "iopub.status.busy": "2024-05-07T23:11:56.401707Z",
     "iopub.status.idle": "2024-05-07T23:11:57.765721Z",
     "shell.execute_reply": "2024-05-07T23:11:57.764584Z",
     "shell.execute_reply.started": "2024-05-07T23:11:56.401958Z"
    }
   },
   "outputs": [],
   "source": [
    "train_dataset = keras.utils.timeseries_dataset_from_array(\n",
    "    raw_data.to_numpy()[:-delay],\n",
    "    targets=data['T (degC)'].to_numpy()[delay:],\n",
    "    sampling_rate=sampling_rate,\n",
    "    sequence_length=sequence_length,\n",
    "    shuffle=True,\n",
    "    batch_size=batch_size,\n",
    "    start_index=0,\n",
    "    end_index=num_train_samples\n",
    ")\n",
    "\n",
    "val_dataset = keras.utils.timeseries_dataset_from_array(\n",
    "    raw_data.to_numpy()[:-delay],\n",
    "    targets=data['T (degC)'].to_numpy()[delay:],\n",
    "    sampling_rate=sampling_rate,\n",
    "    sequence_length=sequence_length,\n",
    "    shuffle=True,\n",
    "    batch_size=batch_size,\n",
    "    start_index=num_train_samples,\n",
    "    end_index=num_train_samples + num_val_samples\n",
    ")\n",
    "\n",
    "test_dataset = keras.utils.timeseries_dataset_from_array(\n",
    "    raw_data.to_numpy()[:-delay],\n",
    "    targets=data['T (degC)'].to_numpy()[delay:],\n",
    "    sampling_rate=sampling_rate,\n",
    "    sequence_length=sequence_length,\n",
    "    shuffle=True,\n",
    "    batch_size=batch_size,\n",
    "    start_index=num_train_samples + num_val_samples\n",
    ")"
   ]
  },
  {
   "cell_type": "code",
   "execution_count": 33,
   "id": "e8b375dc-8d38-470d-8167-29b140f617ea",
   "metadata": {
    "execution": {
     "iopub.execute_input": "2024-05-07T23:11:57.767066Z",
     "iopub.status.busy": "2024-05-07T23:11:57.766811Z",
     "iopub.status.idle": "2024-05-07T23:11:57.964201Z",
     "shell.execute_reply": "2024-05-07T23:11:57.963004Z",
     "shell.execute_reply.started": "2024-05-07T23:11:57.767040Z"
    }
   },
   "outputs": [
    {
     "name": "stdout",
     "output_type": "stream",
     "text": [
      "Samples shape: (256, 120, 14)\n",
      "Targets shape: (256,)\n"
     ]
    }
   ],
   "source": [
    "# Shape check\n",
    "for samples, targets in train_dataset:\n",
    "    print(f\"Samples shape: {samples.shape}\")\n",
    "    print(f\"Targets shape: {targets.shape}\")\n",
    "    break"
   ]
  },
  {
   "cell_type": "markdown",
   "id": "b75e0e82-12f7-4e95-98a3-bc20ac45cc83",
   "metadata": {},
   "source": [
    "### Creating a Baseline"
   ]
  },
  {
   "cell_type": "markdown",
   "id": "28750929-15dc-4c58-8bdf-7afb499b77fc",
   "metadata": {},
   "source": [
    "#### Naive Baseline"
   ]
  },
  {
   "cell_type": "markdown",
   "id": "e18f5d31-1f2d-4e36-8cf6-7119f3a54b37",
   "metadata": {},
   "source": [
    "A common-sense approach is to always predict that the temperature 24 hours from now will be equal to the temperature right now."
   ]
  },
  {
   "cell_type": "code",
   "execution_count": 34,
   "id": "668e82e3-074a-4cef-b214-ffbcf3ba5825",
   "metadata": {
    "execution": {
     "iopub.execute_input": "2024-05-07T23:11:57.965445Z",
     "iopub.status.busy": "2024-05-07T23:11:57.965186Z",
     "iopub.status.idle": "2024-05-07T23:11:57.970699Z",
     "shell.execute_reply": "2024-05-07T23:11:57.969306Z",
     "shell.execute_reply.started": "2024-05-07T23:11:57.965419Z"
    }
   },
   "outputs": [],
   "source": [
    "import numpy as np"
   ]
  },
  {
   "cell_type": "code",
   "execution_count": 35,
   "id": "acad80ff-266e-482f-976f-8c781ce45ba8",
   "metadata": {
    "execution": {
     "iopub.execute_input": "2024-05-07T23:11:57.972106Z",
     "iopub.status.busy": "2024-05-07T23:11:57.971803Z",
     "iopub.status.idle": "2024-05-07T23:11:57.979530Z",
     "shell.execute_reply": "2024-05-07T23:11:57.978667Z",
     "shell.execute_reply.started": "2024-05-07T23:11:57.972073Z"
    }
   },
   "outputs": [],
   "source": [
    "def naive_baseline(dataset):\n",
    "    total_absolute_error = 0\n",
    "    samples_seen = 0\n",
    "    for samples, targets in dataset:\n",
    "        preds = samples[:, -1, 1] * std['T (degC)'] + mean['T (degC)']\n",
    "        total_absolute_error += np.sum(np.abs(preds - targets))\n",
    "        samples_seen += samples.shape[0]\n",
    "\n",
    "    return total_absolute_error / samples_seen"
   ]
  },
  {
   "cell_type": "code",
   "execution_count": 36,
   "id": "ce0ce3ce-bdc1-4dde-8621-782e1c6452dc",
   "metadata": {
    "execution": {
     "iopub.execute_input": "2024-05-07T23:11:57.981451Z",
     "iopub.status.busy": "2024-05-07T23:11:57.980856Z",
     "iopub.status.idle": "2024-05-07T23:12:08.616294Z",
     "shell.execute_reply": "2024-05-07T23:12:08.614613Z",
     "shell.execute_reply.started": "2024-05-07T23:11:57.981400Z"
    }
   },
   "outputs": [
    {
     "name": "stdout",
     "output_type": "stream",
     "text": [
      "Validation MAE: 2.44\n",
      "Test MAE: 2.62\n"
     ]
    }
   ],
   "source": [
    "print(f\"Validation MAE: {naive_baseline(val_dataset):.2f}\")\n",
    "print(f\"Test MAE: {naive_baseline(test_dataset):.2f}\")\n",
    "mae_results = {}\n",
    "mae_results['naive'] = naive_baseline(test_dataset)"
   ]
  },
  {
   "cell_type": "markdown",
   "id": "41130c16-6d22-4c1f-9050-5f121a48f8c2",
   "metadata": {},
   "source": [
    "#### Basic Machine Learning Model"
   ]
  },
  {
   "cell_type": "code",
   "execution_count": 37,
   "id": "b9a0af6e-85dc-4aee-a891-88bf46f6a68f",
   "metadata": {
    "execution": {
     "iopub.execute_input": "2024-05-07T23:12:08.618677Z",
     "iopub.status.busy": "2024-05-07T23:12:08.618304Z",
     "iopub.status.idle": "2024-05-07T23:12:08.653798Z",
     "shell.execute_reply": "2024-05-07T23:12:08.652749Z",
     "shell.execute_reply.started": "2024-05-07T23:12:08.618641Z"
    }
   },
   "outputs": [
    {
     "name": "stderr",
     "output_type": "stream",
     "text": [
      "/home/llorenzo/.conda/envs/msds2024-ml3-rnn/lib/python3.10/site-packages/keras/src/layers/core/dense.py:87: UserWarning: Do not pass an `input_shape`/`input_dim` argument to a layer. When using Sequential models, prefer using an `Input(shape)` object as the first layer in the model instead.\n",
      "  super().__init__(activity_regularizer=activity_regularizer, **kwargs)\n"
     ]
    }
   ],
   "source": [
    "# Simple dense NN\n",
    "inputs = keras.Input(shape=(sequence_length, data.shape[-1]))\n",
    "x = layers.Reshape((sequence_length*data.shape[-1],))(inputs)\n",
    "x = layers.Dense(\n",
    "    16, input_shape=(sequence_length*data.shape[-1],), activation='relu')(x)\n",
    "outputs = layers.Dense(1)(x)\n",
    "model = keras.Model(inputs, outputs)"
   ]
  },
  {
   "cell_type": "code",
   "execution_count": 38,
   "id": "2c85acbd-0d58-488c-848f-c286d07276bf",
   "metadata": {
    "execution": {
     "iopub.execute_input": "2024-05-07T23:12:08.654930Z",
     "iopub.status.busy": "2024-05-07T23:12:08.654686Z",
     "iopub.status.idle": "2024-05-07T23:12:08.673950Z",
     "shell.execute_reply": "2024-05-07T23:12:08.672995Z",
     "shell.execute_reply.started": "2024-05-07T23:12:08.654905Z"
    }
   },
   "outputs": [
    {
     "data": {
      "text/html": [
       "<pre style=\"white-space:pre;overflow-x:auto;line-height:normal;font-family:Menlo,'DejaVu Sans Mono',consolas,'Courier New',monospace\"><span style=\"font-weight: bold\">Model: \"functional_11\"</span>\n",
       "</pre>\n"
      ],
      "text/plain": [
       "\u001b[1mModel: \"functional_11\"\u001b[0m\n"
      ]
     },
     "metadata": {},
     "output_type": "display_data"
    },
    {
     "data": {
      "text/html": [
       "<pre style=\"white-space:pre;overflow-x:auto;line-height:normal;font-family:Menlo,'DejaVu Sans Mono',consolas,'Courier New',monospace\">┏━━━━━━━━━━━━━━━━━━━━━━━━━━━━━━━━━┳━━━━━━━━━━━━━━━━━━━━━━━━┳━━━━━━━━━━━━━━━┓\n",
       "┃<span style=\"font-weight: bold\"> Layer (type)                    </span>┃<span style=\"font-weight: bold\"> Output Shape           </span>┃<span style=\"font-weight: bold\">       Param # </span>┃\n",
       "┡━━━━━━━━━━━━━━━━━━━━━━━━━━━━━━━━━╇━━━━━━━━━━━━━━━━━━━━━━━━╇━━━━━━━━━━━━━━━┩\n",
       "│ input_layer_5 (<span style=\"color: #0087ff; text-decoration-color: #0087ff\">InputLayer</span>)      │ (<span style=\"color: #00d7ff; text-decoration-color: #00d7ff\">None</span>, <span style=\"color: #00af00; text-decoration-color: #00af00\">120</span>, <span style=\"color: #00af00; text-decoration-color: #00af00\">14</span>)        │             <span style=\"color: #00af00; text-decoration-color: #00af00\">0</span> │\n",
       "├─────────────────────────────────┼────────────────────────┼───────────────┤\n",
       "│ reshape (<span style=\"color: #0087ff; text-decoration-color: #0087ff\">Reshape</span>)               │ (<span style=\"color: #00d7ff; text-decoration-color: #00d7ff\">None</span>, <span style=\"color: #00af00; text-decoration-color: #00af00\">1680</span>)           │             <span style=\"color: #00af00; text-decoration-color: #00af00\">0</span> │\n",
       "├─────────────────────────────────┼────────────────────────┼───────────────┤\n",
       "│ dense_5 (<span style=\"color: #0087ff; text-decoration-color: #0087ff\">Dense</span>)                 │ (<span style=\"color: #00d7ff; text-decoration-color: #00d7ff\">None</span>, <span style=\"color: #00af00; text-decoration-color: #00af00\">16</span>)             │        <span style=\"color: #00af00; text-decoration-color: #00af00\">26,896</span> │\n",
       "├─────────────────────────────────┼────────────────────────┼───────────────┤\n",
       "│ dense_6 (<span style=\"color: #0087ff; text-decoration-color: #0087ff\">Dense</span>)                 │ (<span style=\"color: #00d7ff; text-decoration-color: #00d7ff\">None</span>, <span style=\"color: #00af00; text-decoration-color: #00af00\">1</span>)              │            <span style=\"color: #00af00; text-decoration-color: #00af00\">17</span> │\n",
       "└─────────────────────────────────┴────────────────────────┴───────────────┘\n",
       "</pre>\n"
      ],
      "text/plain": [
       "┏━━━━━━━━━━━━━━━━━━━━━━━━━━━━━━━━━┳━━━━━━━━━━━━━━━━━━━━━━━━┳━━━━━━━━━━━━━━━┓\n",
       "┃\u001b[1m \u001b[0m\u001b[1mLayer (type)                   \u001b[0m\u001b[1m \u001b[0m┃\u001b[1m \u001b[0m\u001b[1mOutput Shape          \u001b[0m\u001b[1m \u001b[0m┃\u001b[1m \u001b[0m\u001b[1m      Param #\u001b[0m\u001b[1m \u001b[0m┃\n",
       "┡━━━━━━━━━━━━━━━━━━━━━━━━━━━━━━━━━╇━━━━━━━━━━━━━━━━━━━━━━━━╇━━━━━━━━━━━━━━━┩\n",
       "│ input_layer_5 (\u001b[38;5;33mInputLayer\u001b[0m)      │ (\u001b[38;5;45mNone\u001b[0m, \u001b[38;5;34m120\u001b[0m, \u001b[38;5;34m14\u001b[0m)        │             \u001b[38;5;34m0\u001b[0m │\n",
       "├─────────────────────────────────┼────────────────────────┼───────────────┤\n",
       "│ reshape (\u001b[38;5;33mReshape\u001b[0m)               │ (\u001b[38;5;45mNone\u001b[0m, \u001b[38;5;34m1680\u001b[0m)           │             \u001b[38;5;34m0\u001b[0m │\n",
       "├─────────────────────────────────┼────────────────────────┼───────────────┤\n",
       "│ dense_5 (\u001b[38;5;33mDense\u001b[0m)                 │ (\u001b[38;5;45mNone\u001b[0m, \u001b[38;5;34m16\u001b[0m)             │        \u001b[38;5;34m26,896\u001b[0m │\n",
       "├─────────────────────────────────┼────────────────────────┼───────────────┤\n",
       "│ dense_6 (\u001b[38;5;33mDense\u001b[0m)                 │ (\u001b[38;5;45mNone\u001b[0m, \u001b[38;5;34m1\u001b[0m)              │            \u001b[38;5;34m17\u001b[0m │\n",
       "└─────────────────────────────────┴────────────────────────┴───────────────┘\n"
      ]
     },
     "metadata": {},
     "output_type": "display_data"
    },
    {
     "data": {
      "text/html": [
       "<pre style=\"white-space:pre;overflow-x:auto;line-height:normal;font-family:Menlo,'DejaVu Sans Mono',consolas,'Courier New',monospace\"><span style=\"font-weight: bold\"> Total params: </span><span style=\"color: #00af00; text-decoration-color: #00af00\">26,913</span> (105.13 KB)\n",
       "</pre>\n"
      ],
      "text/plain": [
       "\u001b[1m Total params: \u001b[0m\u001b[38;5;34m26,913\u001b[0m (105.13 KB)\n"
      ]
     },
     "metadata": {},
     "output_type": "display_data"
    },
    {
     "data": {
      "text/html": [
       "<pre style=\"white-space:pre;overflow-x:auto;line-height:normal;font-family:Menlo,'DejaVu Sans Mono',consolas,'Courier New',monospace\"><span style=\"font-weight: bold\"> Trainable params: </span><span style=\"color: #00af00; text-decoration-color: #00af00\">26,913</span> (105.13 KB)\n",
       "</pre>\n"
      ],
      "text/plain": [
       "\u001b[1m Trainable params: \u001b[0m\u001b[38;5;34m26,913\u001b[0m (105.13 KB)\n"
      ]
     },
     "metadata": {},
     "output_type": "display_data"
    },
    {
     "data": {
      "text/html": [
       "<pre style=\"white-space:pre;overflow-x:auto;line-height:normal;font-family:Menlo,'DejaVu Sans Mono',consolas,'Courier New',monospace\"><span style=\"font-weight: bold\"> Non-trainable params: </span><span style=\"color: #00af00; text-decoration-color: #00af00\">0</span> (0.00 B)\n",
       "</pre>\n"
      ],
      "text/plain": [
       "\u001b[1m Non-trainable params: \u001b[0m\u001b[38;5;34m0\u001b[0m (0.00 B)\n"
      ]
     },
     "metadata": {},
     "output_type": "display_data"
    }
   ],
   "source": [
    "model.summary()"
   ]
  },
  {
   "cell_type": "code",
   "execution_count": 39,
   "id": "46cde829-7209-4231-b27f-21903213cbda",
   "metadata": {
    "execution": {
     "iopub.execute_input": "2024-05-07T23:12:08.674925Z",
     "iopub.status.busy": "2024-05-07T23:12:08.674686Z",
     "iopub.status.idle": "2024-05-07T23:12:08.688119Z",
     "shell.execute_reply": "2024-05-07T23:12:08.687111Z",
     "shell.execute_reply.started": "2024-05-07T23:12:08.674900Z"
    }
   },
   "outputs": [],
   "source": [
    "# Model checkpointing\n",
    "callbacks = [\n",
    "    keras.callbacks.ModelCheckpoint('jena_dense.keras', save_best_only=True)\n",
    "]\n",
    "model.compile(optimizer='adam', loss='mse', metrics=['mae'])"
   ]
  },
  {
   "cell_type": "code",
   "execution_count": 40,
   "id": "b2b393ec-e25f-4237-90b7-3082655abae8",
   "metadata": {
    "execution": {
     "iopub.execute_input": "2024-05-07T23:12:08.689226Z",
     "iopub.status.busy": "2024-05-07T23:12:08.688991Z",
     "iopub.status.idle": "2024-05-07T23:13:59.345801Z",
     "shell.execute_reply": "2024-05-07T23:13:59.343662Z",
     "shell.execute_reply.started": "2024-05-07T23:12:08.689202Z"
    }
   },
   "outputs": [
    {
     "name": "stdout",
     "output_type": "stream",
     "text": [
      "Epoch 1/10\n",
      "\u001b[1m819/819\u001b[0m \u001b[32m━━━━━━━━━━━━━━━━━━━━\u001b[0m\u001b[37m\u001b[0m \u001b[1m13s\u001b[0m 14ms/step - loss: 26.8693 - mae: 3.8388 - val_loss: 11.0812 - val_mae: 2.6293\n",
      "Epoch 2/10\n",
      "\u001b[1m819/819\u001b[0m \u001b[32m━━━━━━━━━━━━━━━━━━━━\u001b[0m\u001b[37m\u001b[0m \u001b[1m11s\u001b[0m 14ms/step - loss: 9.2874 - mae: 2.4084 - val_loss: 10.3344 - val_mae: 2.5319\n",
      "Epoch 3/10\n",
      "\u001b[1m819/819\u001b[0m \u001b[32m━━━━━━━━━━━━━━━━━━━━\u001b[0m\u001b[37m\u001b[0m \u001b[1m11s\u001b[0m 13ms/step - loss: 8.4070 - mae: 2.2897 - val_loss: 10.1487 - val_mae: 2.5041\n",
      "Epoch 4/10\n",
      "\u001b[1m819/819\u001b[0m \u001b[32m━━━━━━━━━━━━━━━━━━━━\u001b[0m\u001b[37m\u001b[0m \u001b[1m11s\u001b[0m 13ms/step - loss: 7.9154 - mae: 2.2175 - val_loss: 11.6737 - val_mae: 2.7167\n",
      "Epoch 5/10\n",
      "\u001b[1m819/819\u001b[0m \u001b[32m━━━━━━━━━━━━━━━━━━━━\u001b[0m\u001b[37m\u001b[0m \u001b[1m11s\u001b[0m 13ms/step - loss: 7.5564 - mae: 2.1637 - val_loss: 10.5500 - val_mae: 2.5698\n",
      "Epoch 6/10\n",
      "\u001b[1m819/819\u001b[0m \u001b[32m━━━━━━━━━━━━━━━━━━━━\u001b[0m\u001b[37m\u001b[0m \u001b[1m11s\u001b[0m 13ms/step - loss: 7.2095 - mae: 2.1147 - val_loss: 10.7373 - val_mae: 2.5628\n",
      "Epoch 7/10\n",
      "\u001b[1m819/819\u001b[0m \u001b[32m━━━━━━━━━━━━━━━━━━━━\u001b[0m\u001b[37m\u001b[0m \u001b[1m11s\u001b[0m 13ms/step - loss: 6.9954 - mae: 2.0817 - val_loss: 10.8232 - val_mae: 2.5759\n",
      "Epoch 8/10\n",
      "\u001b[1m819/819\u001b[0m \u001b[32m━━━━━━━━━━━━━━━━━━━━\u001b[0m\u001b[37m\u001b[0m \u001b[1m11s\u001b[0m 13ms/step - loss: 6.7719 - mae: 2.0462 - val_loss: 11.0932 - val_mae: 2.6323\n",
      "Epoch 9/10\n",
      "\u001b[1m819/819\u001b[0m \u001b[32m━━━━━━━━━━━━━━━━━━━━\u001b[0m\u001b[37m\u001b[0m \u001b[1m11s\u001b[0m 13ms/step - loss: 6.6038 - mae: 2.0217 - val_loss: 11.4807 - val_mae: 2.6760\n",
      "Epoch 10/10\n",
      "\u001b[1m819/819\u001b[0m \u001b[32m━━━━━━━━━━━━━━━━━━━━\u001b[0m\u001b[37m\u001b[0m \u001b[1m11s\u001b[0m 13ms/step - loss: 6.5233 - mae: 2.0100 - val_loss: 11.1218 - val_mae: 2.6271\n"
     ]
    }
   ],
   "source": [
    "history = model.fit(train_dataset, epochs=10, validation_data=val_dataset,\n",
    "                    callbacks=callbacks)"
   ]
  },
  {
   "cell_type": "code",
   "execution_count": 41,
   "id": "5254790a-c2a1-4f33-bb04-8289457055ea",
   "metadata": {
    "execution": {
     "iopub.execute_input": "2024-05-07T23:13:59.349735Z",
     "iopub.status.busy": "2024-05-07T23:13:59.349052Z",
     "iopub.status.idle": "2024-05-07T23:13:59.362500Z",
     "shell.execute_reply": "2024-05-07T23:13:59.360878Z",
     "shell.execute_reply.started": "2024-05-07T23:13:59.349668Z"
    }
   },
   "outputs": [],
   "source": [
    "def plot_history(history):\n",
    "    loss = history.history['mae']\n",
    "    val_loss = history.history['val_mae']\n",
    "    epochs = range(1, len(loss) + 1)\n",
    "\n",
    "    fig, ax = plt.subplots()\n",
    "\n",
    "    ax.plot(epochs, loss, 'o', color='tab:blue', label='Training MAE')\n",
    "    ax.plot(epochs, val_loss, color='tab:blue', label='Validation MAE')\n",
    "    ax.legend(bbox_to_anchor=(1., 1.))\n",
    "    ax.set_xlabel(\"Epoch\")\n",
    "    ax.set_ylabel(\"Mean Absolute Error\")\n",
    "\n",
    "    return fig, ax"
   ]
  },
  {
   "cell_type": "code",
   "execution_count": 42,
   "id": "4cfc988d-193d-48e7-9b2e-08ce73ca7787",
   "metadata": {
    "execution": {
     "iopub.execute_input": "2024-05-07T23:13:59.365028Z",
     "iopub.status.busy": "2024-05-07T23:13:59.364529Z",
     "iopub.status.idle": "2024-05-07T23:13:59.570655Z",
     "shell.execute_reply": "2024-05-07T23:13:59.569704Z",
     "shell.execute_reply.started": "2024-05-07T23:13:59.364975Z"
    }
   },
   "outputs": [
    {
     "data": {
      "image/png": "[encoded data removed]",
      "text/plain": [
       "<Figure size 640x480 with 1 Axes>"
      ]
     },
     "metadata": {},
     "output_type": "display_data"
    }
   ],
   "source": [
    "fig, ax = plot_history(history)"
   ]
  },
  {
   "cell_type": "code",
   "execution_count": 43,
   "id": "4071695e-8a46-41ba-9ac3-4c75dec5c820",
   "metadata": {
    "execution": {
     "iopub.execute_input": "2024-05-07T23:13:59.571678Z",
     "iopub.status.busy": "2024-05-07T23:13:59.571428Z",
     "iopub.status.idle": "2024-05-07T23:14:03.773019Z",
     "shell.execute_reply": "2024-05-07T23:14:03.771328Z",
     "shell.execute_reply.started": "2024-05-07T23:13:59.571653Z"
    }
   },
   "outputs": [
    {
     "name": "stdout",
     "output_type": "stream",
     "text": [
      "\u001b[1m405/405\u001b[0m \u001b[32m━━━━━━━━━━━━━━━━━━━━\u001b[0m\u001b[37m\u001b[0m \u001b[1m4s\u001b[0m 9ms/step - loss: 11.4725 - mae: 2.6437\n",
      "Test MAE: 2.65\n"
     ]
    }
   ],
   "source": [
    "model = keras.models.load_model(\"jena_dense.keras\")\n",
    "mae_results['dense'] = model.evaluate(test_dataset)[1]\n",
    "print(f\"Test MAE: {mae_results['dense']:.2f}\")"
   ]
  },
  {
   "cell_type": "markdown",
   "id": "e983ba66-663a-4abc-aa16-27a8d34ab967",
   "metadata": {},
   "source": [
    "### RNN Models"
   ]
  },
  {
   "cell_type": "markdown",
   "id": "693a1524-5b0b-4c45-a5ec-8d7f731e06f8",
   "metadata": {},
   "source": [
    "#### LSTM"
   ]
  },
  {
   "cell_type": "code",
   "execution_count": 44,
   "id": "73d265ed-8ea3-400a-8da9-2f5ea588f8ac",
   "metadata": {
    "execution": {
     "iopub.execute_input": "2024-05-07T23:14:03.776042Z",
     "iopub.status.busy": "2024-05-07T23:14:03.775320Z",
     "iopub.status.idle": "2024-05-07T23:14:03.821094Z",
     "shell.execute_reply": "2024-05-07T23:14:03.819986Z",
     "shell.execute_reply.started": "2024-05-07T23:14:03.775968Z"
    }
   },
   "outputs": [],
   "source": [
    "inputs = keras.Input(shape=(sequence_length, raw_data.shape[-1]))\n",
    "x = layers.LSTM(16)(inputs)\n",
    "outputs = layers.Dense(1)(x)\n",
    "model = keras.Model(inputs, outputs)"
   ]
  },
  {
   "cell_type": "code",
   "execution_count": 45,
   "id": "39a8df04-34fe-4182-81af-34ed90e1f650",
   "metadata": {
    "execution": {
     "iopub.execute_input": "2024-05-07T23:14:03.822490Z",
     "iopub.status.busy": "2024-05-07T23:14:03.822236Z",
     "iopub.status.idle": "2024-05-07T23:14:03.836831Z",
     "shell.execute_reply": "2024-05-07T23:14:03.836212Z",
     "shell.execute_reply.started": "2024-05-07T23:14:03.822464Z"
    }
   },
   "outputs": [
    {
     "data": {
      "text/html": [
       "<pre style=\"white-space:pre;overflow-x:auto;line-height:normal;font-family:Menlo,'DejaVu Sans Mono',consolas,'Courier New',monospace\"><span style=\"font-weight: bold\">Model: \"functional_13\"</span>\n",
       "</pre>\n"
      ],
      "text/plain": [
       "\u001b[1mModel: \"functional_13\"\u001b[0m\n"
      ]
     },
     "metadata": {},
     "output_type": "display_data"
    },
    {
     "data": {
      "text/html": [
       "<pre style=\"white-space:pre;overflow-x:auto;line-height:normal;font-family:Menlo,'DejaVu Sans Mono',consolas,'Courier New',monospace\">┏━━━━━━━━━━━━━━━━━━━━━━━━━━━━━━━━━┳━━━━━━━━━━━━━━━━━━━━━━━━┳━━━━━━━━━━━━━━━┓\n",
       "┃<span style=\"font-weight: bold\"> Layer (type)                    </span>┃<span style=\"font-weight: bold\"> Output Shape           </span>┃<span style=\"font-weight: bold\">       Param # </span>┃\n",
       "┡━━━━━━━━━━━━━━━━━━━━━━━━━━━━━━━━━╇━━━━━━━━━━━━━━━━━━━━━━━━╇━━━━━━━━━━━━━━━┩\n",
       "│ input_layer_6 (<span style=\"color: #0087ff; text-decoration-color: #0087ff\">InputLayer</span>)      │ (<span style=\"color: #00d7ff; text-decoration-color: #00d7ff\">None</span>, <span style=\"color: #00af00; text-decoration-color: #00af00\">120</span>, <span style=\"color: #00af00; text-decoration-color: #00af00\">14</span>)        │             <span style=\"color: #00af00; text-decoration-color: #00af00\">0</span> │\n",
       "├─────────────────────────────────┼────────────────────────┼───────────────┤\n",
       "│ lstm_1 (<span style=\"color: #0087ff; text-decoration-color: #0087ff\">LSTM</span>)                   │ (<span style=\"color: #00d7ff; text-decoration-color: #00d7ff\">None</span>, <span style=\"color: #00af00; text-decoration-color: #00af00\">16</span>)             │         <span style=\"color: #00af00; text-decoration-color: #00af00\">1,984</span> │\n",
       "├─────────────────────────────────┼────────────────────────┼───────────────┤\n",
       "│ dense_7 (<span style=\"color: #0087ff; text-decoration-color: #0087ff\">Dense</span>)                 │ (<span style=\"color: #00d7ff; text-decoration-color: #00d7ff\">None</span>, <span style=\"color: #00af00; text-decoration-color: #00af00\">1</span>)              │            <span style=\"color: #00af00; text-decoration-color: #00af00\">17</span> │\n",
       "└─────────────────────────────────┴────────────────────────┴───────────────┘\n",
       "</pre>\n"
      ],
      "text/plain": [
       "┏━━━━━━━━━━━━━━━━━━━━━━━━━━━━━━━━━┳━━━━━━━━━━━━━━━━━━━━━━━━┳━━━━━━━━━━━━━━━┓\n",
       "┃\u001b[1m \u001b[0m\u001b[1mLayer (type)                   \u001b[0m\u001b[1m \u001b[0m┃\u001b[1m \u001b[0m\u001b[1mOutput Shape          \u001b[0m\u001b[1m \u001b[0m┃\u001b[1m \u001b[0m\u001b[1m      Param #\u001b[0m\u001b[1m \u001b[0m┃\n",
       "┡━━━━━━━━━━━━━━━━━━━━━━━━━━━━━━━━━╇━━━━━━━━━━━━━━━━━━━━━━━━╇━━━━━━━━━━━━━━━┩\n",
       "│ input_layer_6 (\u001b[38;5;33mInputLayer\u001b[0m)      │ (\u001b[38;5;45mNone\u001b[0m, \u001b[38;5;34m120\u001b[0m, \u001b[38;5;34m14\u001b[0m)        │             \u001b[38;5;34m0\u001b[0m │\n",
       "├─────────────────────────────────┼────────────────────────┼───────────────┤\n",
       "│ lstm_1 (\u001b[38;5;33mLSTM\u001b[0m)                   │ (\u001b[38;5;45mNone\u001b[0m, \u001b[38;5;34m16\u001b[0m)             │         \u001b[38;5;34m1,984\u001b[0m │\n",
       "├─────────────────────────────────┼────────────────────────┼───────────────┤\n",
       "│ dense_7 (\u001b[38;5;33mDense\u001b[0m)                 │ (\u001b[38;5;45mNone\u001b[0m, \u001b[38;5;34m1\u001b[0m)              │            \u001b[38;5;34m17\u001b[0m │\n",
       "└─────────────────────────────────┴────────────────────────┴───────────────┘\n"
      ]
     },
     "metadata": {},
     "output_type": "display_data"
    },
    {
     "data": {
      "text/html": [
       "<pre style=\"white-space:pre;overflow-x:auto;line-height:normal;font-family:Menlo,'DejaVu Sans Mono',consolas,'Courier New',monospace\"><span style=\"font-weight: bold\"> Total params: </span><span style=\"color: #00af00; text-decoration-color: #00af00\">2,001</span> (7.82 KB)\n",
       "</pre>\n"
      ],
      "text/plain": [
       "\u001b[1m Total params: \u001b[0m\u001b[38;5;34m2,001\u001b[0m (7.82 KB)\n"
      ]
     },
     "metadata": {},
     "output_type": "display_data"
    },
    {
     "data": {
      "text/html": [
       "<pre style=\"white-space:pre;overflow-x:auto;line-height:normal;font-family:Menlo,'DejaVu Sans Mono',consolas,'Courier New',monospace\"><span style=\"font-weight: bold\"> Trainable params: </span><span style=\"color: #00af00; text-decoration-color: #00af00\">2,001</span> (7.82 KB)\n",
       "</pre>\n"
      ],
      "text/plain": [
       "\u001b[1m Trainable params: \u001b[0m\u001b[38;5;34m2,001\u001b[0m (7.82 KB)\n"
      ]
     },
     "metadata": {},
     "output_type": "display_data"
    },
    {
     "data": {
      "text/html": [
       "<pre style=\"white-space:pre;overflow-x:auto;line-height:normal;font-family:Menlo,'DejaVu Sans Mono',consolas,'Courier New',monospace\"><span style=\"font-weight: bold\"> Non-trainable params: </span><span style=\"color: #00af00; text-decoration-color: #00af00\">0</span> (0.00 B)\n",
       "</pre>\n"
      ],
      "text/plain": [
       "\u001b[1m Non-trainable params: \u001b[0m\u001b[38;5;34m0\u001b[0m (0.00 B)\n"
      ]
     },
     "metadata": {},
     "output_type": "display_data"
    }
   ],
   "source": [
    "model.summary()"
   ]
  },
  {
   "cell_type": "code",
   "execution_count": 46,
   "id": "02842481-88be-4dbc-9b73-6c085fc4f29a",
   "metadata": {
    "execution": {
     "iopub.execute_input": "2024-05-07T23:14:03.837943Z",
     "iopub.status.busy": "2024-05-07T23:14:03.837704Z",
     "iopub.status.idle": "2024-05-07T23:14:03.858456Z",
     "shell.execute_reply": "2024-05-07T23:14:03.857076Z",
     "shell.execute_reply.started": "2024-05-07T23:14:03.837917Z"
    }
   },
   "outputs": [],
   "source": [
    "# Model checkpointing\n",
    "callbacks = [\n",
    "    keras.callbacks.ModelCheckpoint('jena_lstm.keras', save_best_only=True)\n",
    "]\n",
    "model.compile(optimizer='rmsprop', loss='mse', metrics=['mae'])"
   ]
  },
  {
   "cell_type": "code",
   "execution_count": 47,
   "id": "8d1875b8-ed1b-4582-bbc3-192bf6707d84",
   "metadata": {
    "execution": {
     "iopub.execute_input": "2024-05-07T23:14:03.859992Z",
     "iopub.status.busy": "2024-05-07T23:14:03.859636Z",
     "iopub.status.idle": "2024-05-07T23:16:53.523243Z",
     "shell.execute_reply": "2024-05-07T23:16:53.520805Z",
     "shell.execute_reply.started": "2024-05-07T23:14:03.859957Z"
    }
   },
   "outputs": [
    {
     "name": "stdout",
     "output_type": "stream",
     "text": [
      "Epoch 1/10\n",
      "\u001b[1m819/819\u001b[0m \u001b[32m━━━━━━━━━━━━━━━━━━━━\u001b[0m\u001b[37m\u001b[0m \u001b[1m18s\u001b[0m 20ms/step - loss: 79.7888 - mae: 6.8948 - val_loss: 13.7702 - val_mae: 2.7921\n",
      "Epoch 2/10\n",
      "\u001b[1m819/819\u001b[0m \u001b[32m━━━━━━━━━━━━━━━━━━━━\u001b[0m\u001b[37m\u001b[0m \u001b[1m17s\u001b[0m 21ms/step - loss: 12.9717 - mae: 2.7567 - val_loss: 9.6589 - val_mae: 2.4191\n",
      "Epoch 3/10\n",
      "\u001b[1m819/819\u001b[0m \u001b[32m━━━━━━━━━━━━━━━━━━━━\u001b[0m\u001b[37m\u001b[0m \u001b[1m16s\u001b[0m 20ms/step - loss: 10.2207 - mae: 2.4881 - val_loss: 9.3134 - val_mae: 2.3834\n",
      "Epoch 4/10\n",
      "\u001b[1m819/819\u001b[0m \u001b[32m━━━━━━━━━━━━━━━━━━━━\u001b[0m\u001b[37m\u001b[0m \u001b[1m17s\u001b[0m 20ms/step - loss: 9.6837 - mae: 2.4284 - val_loss: 10.1810 - val_mae: 2.4745\n",
      "Epoch 5/10\n",
      "\u001b[1m819/819\u001b[0m \u001b[32m━━━━━━━━━━━━━━━━━━━━\u001b[0m\u001b[37m\u001b[0m \u001b[1m16s\u001b[0m 20ms/step - loss: 9.3300 - mae: 2.3771 - val_loss: 9.9192 - val_mae: 2.4406\n",
      "Epoch 6/10\n",
      "\u001b[1m819/819\u001b[0m \u001b[32m━━━━━━━━━━━━━━━━━━━━\u001b[0m\u001b[37m\u001b[0m \u001b[1m17s\u001b[0m 20ms/step - loss: 9.0256 - mae: 2.3354 - val_loss: 10.2217 - val_mae: 2.4720\n",
      "Epoch 7/10\n",
      "\u001b[1m819/819\u001b[0m \u001b[32m━━━━━━━━━━━━━━━━━━━━\u001b[0m\u001b[37m\u001b[0m \u001b[1m16s\u001b[0m 20ms/step - loss: 8.8016 - mae: 2.3045 - val_loss: 10.1448 - val_mae: 2.4644\n",
      "Epoch 8/10\n",
      "\u001b[1m819/819\u001b[0m \u001b[32m━━━━━━━━━━━━━━━━━━━━\u001b[0m\u001b[37m\u001b[0m \u001b[1m17s\u001b[0m 21ms/step - loss: 8.6565 - mae: 2.2886 - val_loss: 10.0057 - val_mae: 2.4532\n",
      "Epoch 9/10\n",
      "\u001b[1m819/819\u001b[0m \u001b[32m━━━━━━━━━━━━━━━━━━━━\u001b[0m\u001b[37m\u001b[0m \u001b[1m18s\u001b[0m 21ms/step - loss: 8.4470 - mae: 2.2657 - val_loss: 10.3816 - val_mae: 2.4876\n",
      "Epoch 10/10\n",
      "\u001b[1m819/819\u001b[0m \u001b[32m━━━━━━━━━━━━━━━━━━━━\u001b[0m\u001b[37m\u001b[0m \u001b[1m17s\u001b[0m 21ms/step - loss: 8.3031 - mae: 2.2494 - val_loss: 10.1369 - val_mae: 2.4668\n"
     ]
    }
   ],
   "source": [
    "history = model.fit(train_dataset, epochs=10, validation_data=val_dataset,\n",
    "                    callbacks=callbacks)"
   ]
  },
  {
   "cell_type": "code",
   "execution_count": 48,
   "id": "6a18756f-9015-4eb0-b8bf-86b6cfe09fce",
   "metadata": {
    "execution": {
     "iopub.execute_input": "2024-05-07T23:16:53.527426Z",
     "iopub.status.busy": "2024-05-07T23:16:53.526753Z",
     "iopub.status.idle": "2024-05-07T23:16:53.739198Z",
     "shell.execute_reply": "2024-05-07T23:16:53.738222Z",
     "shell.execute_reply.started": "2024-05-07T23:16:53.527360Z"
    }
   },
   "outputs": [
    {
     "data": {
      "image/png": "[encoded data removed]",
      "text/plain": [
       "<Figure size 640x480 with 1 Axes>"
      ]
     },
     "metadata": {},
     "output_type": "display_data"
    }
   ],
   "source": [
    "fig, ax = plot_history(history)"
   ]
  },
  {
   "cell_type": "code",
   "execution_count": 49,
   "id": "90f0ba78-a8f3-4869-bed5-7d1bd32d9142",
   "metadata": {
    "execution": {
     "iopub.execute_input": "2024-05-07T23:16:53.740532Z",
     "iopub.status.busy": "2024-05-07T23:16:53.740278Z",
     "iopub.status.idle": "2024-05-07T23:16:57.900928Z",
     "shell.execute_reply": "2024-05-07T23:16:57.898430Z",
     "shell.execute_reply.started": "2024-05-07T23:16:53.740507Z"
    }
   },
   "outputs": [
    {
     "name": "stdout",
     "output_type": "stream",
     "text": [
      "\u001b[1m405/405\u001b[0m \u001b[32m━━━━━━━━━━━━━━━━━━━━\u001b[0m\u001b[37m\u001b[0m \u001b[1m4s\u001b[0m 9ms/step - loss: 10.4630 - mae: 2.5453\n",
      "Test MAE: 2.55\n"
     ]
    }
   ],
   "source": [
    "model = keras.models.load_model(\"jena_lstm.keras\")\n",
    "mae_results['lstm'] = model.evaluate(test_dataset)[1]\n",
    "print(f\"Test MAE: {mae_results['lstm']:.2f}\")"
   ]
  },
  {
   "cell_type": "markdown",
   "id": "87a2bdf1-0538-470e-a435-2036c4dd5b7a",
   "metadata": {},
   "source": [
    "#### GRU (v1)"
   ]
  },
  {
   "cell_type": "code",
   "execution_count": 57,
   "id": "64cac316-579b-40e1-8ae7-1d51661f37e0",
   "metadata": {
    "execution": {
     "iopub.execute_input": "2024-05-07T23:20:40.228559Z",
     "iopub.status.busy": "2024-05-07T23:20:40.227701Z",
     "iopub.status.idle": "2024-05-07T23:20:40.277111Z",
     "shell.execute_reply": "2024-05-07T23:20:40.275500Z",
     "shell.execute_reply.started": "2024-05-07T23:20:40.228480Z"
    }
   },
   "outputs": [],
   "source": [
    "inputs = keras.Input(shape=(sequence_length, raw_data.shape[-1]))\n",
    "x = layers.GRU(16)(inputs)\n",
    "outputs = layers.Dense(1)(x)\n",
    "model = keras.Model(inputs, outputs)"
   ]
  },
  {
   "cell_type": "code",
   "execution_count": 58,
   "id": "aa0424ca-0a87-4ad8-ab21-99da7b9ab640",
   "metadata": {
    "execution": {
     "iopub.execute_input": "2024-05-07T23:20:40.469374Z",
     "iopub.status.busy": "2024-05-07T23:20:40.468585Z",
     "iopub.status.idle": "2024-05-07T23:20:40.501759Z",
     "shell.execute_reply": "2024-05-07T23:20:40.500220Z",
     "shell.execute_reply.started": "2024-05-07T23:20:40.469296Z"
    }
   },
   "outputs": [
    {
     "data": {
      "text/html": [
       "<pre style=\"white-space:pre;overflow-x:auto;line-height:normal;font-family:Menlo,'DejaVu Sans Mono',consolas,'Courier New',monospace\"><span style=\"font-weight: bold\">Model: \"functional_17\"</span>\n",
       "</pre>\n"
      ],
      "text/plain": [
       "\u001b[1mModel: \"functional_17\"\u001b[0m\n"
      ]
     },
     "metadata": {},
     "output_type": "display_data"
    },
    {
     "data": {
      "text/html": [
       "<pre style=\"white-space:pre;overflow-x:auto;line-height:normal;font-family:Menlo,'DejaVu Sans Mono',consolas,'Courier New',monospace\">┏━━━━━━━━━━━━━━━━━━━━━━━━━━━━━━━━━┳━━━━━━━━━━━━━━━━━━━━━━━━┳━━━━━━━━━━━━━━━┓\n",
       "┃<span style=\"font-weight: bold\"> Layer (type)                    </span>┃<span style=\"font-weight: bold\"> Output Shape           </span>┃<span style=\"font-weight: bold\">       Param # </span>┃\n",
       "┡━━━━━━━━━━━━━━━━━━━━━━━━━━━━━━━━━╇━━━━━━━━━━━━━━━━━━━━━━━━╇━━━━━━━━━━━━━━━┩\n",
       "│ input_layer_8 (<span style=\"color: #0087ff; text-decoration-color: #0087ff\">InputLayer</span>)      │ (<span style=\"color: #00d7ff; text-decoration-color: #00d7ff\">None</span>, <span style=\"color: #00af00; text-decoration-color: #00af00\">120</span>, <span style=\"color: #00af00; text-decoration-color: #00af00\">14</span>)        │             <span style=\"color: #00af00; text-decoration-color: #00af00\">0</span> │\n",
       "├─────────────────────────────────┼────────────────────────┼───────────────┤\n",
       "│ gru_3 (<span style=\"color: #0087ff; text-decoration-color: #0087ff\">GRU</span>)                     │ (<span style=\"color: #00d7ff; text-decoration-color: #00d7ff\">None</span>, <span style=\"color: #00af00; text-decoration-color: #00af00\">16</span>)             │         <span style=\"color: #00af00; text-decoration-color: #00af00\">1,536</span> │\n",
       "├─────────────────────────────────┼────────────────────────┼───────────────┤\n",
       "│ dense_9 (<span style=\"color: #0087ff; text-decoration-color: #0087ff\">Dense</span>)                 │ (<span style=\"color: #00d7ff; text-decoration-color: #00d7ff\">None</span>, <span style=\"color: #00af00; text-decoration-color: #00af00\">1</span>)              │            <span style=\"color: #00af00; text-decoration-color: #00af00\">17</span> │\n",
       "└─────────────────────────────────┴────────────────────────┴───────────────┘\n",
       "</pre>\n"
      ],
      "text/plain": [
       "┏━━━━━━━━━━━━━━━━━━━━━━━━━━━━━━━━━┳━━━━━━━━━━━━━━━━━━━━━━━━┳━━━━━━━━━━━━━━━┓\n",
       "┃\u001b[1m \u001b[0m\u001b[1mLayer (type)                   \u001b[0m\u001b[1m \u001b[0m┃\u001b[1m \u001b[0m\u001b[1mOutput Shape          \u001b[0m\u001b[1m \u001b[0m┃\u001b[1m \u001b[0m\u001b[1m      Param #\u001b[0m\u001b[1m \u001b[0m┃\n",
       "┡━━━━━━━━━━━━━━━━━━━━━━━━━━━━━━━━━╇━━━━━━━━━━━━━━━━━━━━━━━━╇━━━━━━━━━━━━━━━┩\n",
       "│ input_layer_8 (\u001b[38;5;33mInputLayer\u001b[0m)      │ (\u001b[38;5;45mNone\u001b[0m, \u001b[38;5;34m120\u001b[0m, \u001b[38;5;34m14\u001b[0m)        │             \u001b[38;5;34m0\u001b[0m │\n",
       "├─────────────────────────────────┼────────────────────────┼───────────────┤\n",
       "│ gru_3 (\u001b[38;5;33mGRU\u001b[0m)                     │ (\u001b[38;5;45mNone\u001b[0m, \u001b[38;5;34m16\u001b[0m)             │         \u001b[38;5;34m1,536\u001b[0m │\n",
       "├─────────────────────────────────┼────────────────────────┼───────────────┤\n",
       "│ dense_9 (\u001b[38;5;33mDense\u001b[0m)                 │ (\u001b[38;5;45mNone\u001b[0m, \u001b[38;5;34m1\u001b[0m)              │            \u001b[38;5;34m17\u001b[0m │\n",
       "└─────────────────────────────────┴────────────────────────┴───────────────┘\n"
      ]
     },
     "metadata": {},
     "output_type": "display_data"
    },
    {
     "data": {
      "text/html": [
       "<pre style=\"white-space:pre;overflow-x:auto;line-height:normal;font-family:Menlo,'DejaVu Sans Mono',consolas,'Courier New',monospace\"><span style=\"font-weight: bold\"> Total params: </span><span style=\"color: #00af00; text-decoration-color: #00af00\">1,553</span> (6.07 KB)\n",
       "</pre>\n"
      ],
      "text/plain": [
       "\u001b[1m Total params: \u001b[0m\u001b[38;5;34m1,553\u001b[0m (6.07 KB)\n"
      ]
     },
     "metadata": {},
     "output_type": "display_data"
    },
    {
     "data": {
      "text/html": [
       "<pre style=\"white-space:pre;overflow-x:auto;line-height:normal;font-family:Menlo,'DejaVu Sans Mono',consolas,'Courier New',monospace\"><span style=\"font-weight: bold\"> Trainable params: </span><span style=\"color: #00af00; text-decoration-color: #00af00\">1,553</span> (6.07 KB)\n",
       "</pre>\n"
      ],
      "text/plain": [
       "\u001b[1m Trainable params: \u001b[0m\u001b[38;5;34m1,553\u001b[0m (6.07 KB)\n"
      ]
     },
     "metadata": {},
     "output_type": "display_data"
    },
    {
     "data": {
      "text/html": [
       "<pre style=\"white-space:pre;overflow-x:auto;line-height:normal;font-family:Menlo,'DejaVu Sans Mono',consolas,'Courier New',monospace\"><span style=\"font-weight: bold\"> Non-trainable params: </span><span style=\"color: #00af00; text-decoration-color: #00af00\">0</span> (0.00 B)\n",
       "</pre>\n"
      ],
      "text/plain": [
       "\u001b[1m Non-trainable params: \u001b[0m\u001b[38;5;34m0\u001b[0m (0.00 B)\n"
      ]
     },
     "metadata": {},
     "output_type": "display_data"
    }
   ],
   "source": [
    "model.summary()"
   ]
  },
  {
   "cell_type": "code",
   "execution_count": 59,
   "id": "27b392ef-97f6-4f1f-8c19-8747ea90e4f3",
   "metadata": {
    "execution": {
     "iopub.execute_input": "2024-05-07T23:20:40.884638Z",
     "iopub.status.busy": "2024-05-07T23:20:40.883851Z",
     "iopub.status.idle": "2024-05-07T23:20:40.903149Z",
     "shell.execute_reply": "2024-05-07T23:20:40.901319Z",
     "shell.execute_reply.started": "2024-05-07T23:20:40.884562Z"
    }
   },
   "outputs": [],
   "source": [
    "# Model checkpointing\n",
    "callbacks = [\n",
    "    keras.callbacks.ModelCheckpoint('jena_gruV1.keras', save_best_only=True)\n",
    "]\n",
    "model.compile(optimizer='rmsprop', loss='mse', metrics=['mae'])"
   ]
  },
  {
   "cell_type": "code",
   "execution_count": 60,
   "id": "12b88226-e8ee-4fc9-af38-4f2557b46d13",
   "metadata": {
    "execution": {
     "iopub.execute_input": "2024-05-07T23:20:41.583636Z",
     "iopub.status.busy": "2024-05-07T23:20:41.582825Z",
     "iopub.status.idle": "2024-05-07T23:23:27.625727Z",
     "shell.execute_reply": "2024-05-07T23:23:27.623205Z",
     "shell.execute_reply.started": "2024-05-07T23:20:41.583557Z"
    }
   },
   "outputs": [
    {
     "name": "stdout",
     "output_type": "stream",
     "text": [
      "Epoch 1/10\n",
      "\u001b[1m819/819\u001b[0m \u001b[32m━━━━━━━━━━━━━━━━━━━━\u001b[0m\u001b[37m\u001b[0m \u001b[1m17s\u001b[0m 20ms/step - loss: 79.7287 - mae: 6.8714 - val_loss: 13.5935 - val_mae: 2.7560\n",
      "Epoch 2/10\n",
      "\u001b[1m819/819\u001b[0m \u001b[32m━━━━━━━━━━━━━━━━━━━━\u001b[0m\u001b[37m\u001b[0m \u001b[1m16s\u001b[0m 20ms/step - loss: 11.5526 - mae: 2.6219 - val_loss: 9.3703 - val_mae: 2.3685\n",
      "Epoch 3/10\n",
      "\u001b[1m819/819\u001b[0m \u001b[32m━━━━━━━━━━━━━━━━━━━━\u001b[0m\u001b[37m\u001b[0m \u001b[1m17s\u001b[0m 21ms/step - loss: 9.5752 - mae: 2.4198 - val_loss: 9.7214 - val_mae: 2.4018\n",
      "Epoch 4/10\n",
      "\u001b[1m819/819\u001b[0m \u001b[32m━━━━━━━━━━━━━━━━━━━━\u001b[0m\u001b[37m\u001b[0m \u001b[1m17s\u001b[0m 20ms/step - loss: 9.1917 - mae: 2.3690 - val_loss: 9.2234 - val_mae: 2.3526\n",
      "Epoch 5/10\n",
      "\u001b[1m819/819\u001b[0m \u001b[32m━━━━━━━━━━━━━━━━━━━━\u001b[0m\u001b[37m\u001b[0m \u001b[1m17s\u001b[0m 20ms/step - loss: 8.9511 - mae: 2.3395 - val_loss: 9.2915 - val_mae: 2.3521\n",
      "Epoch 6/10\n",
      "\u001b[1m819/819\u001b[0m \u001b[32m━━━━━━━━━━━━━━━━━━━━\u001b[0m\u001b[37m\u001b[0m \u001b[1m17s\u001b[0m 20ms/step - loss: 8.7549 - mae: 2.3146 - val_loss: 9.3842 - val_mae: 2.3614\n",
      "Epoch 7/10\n",
      "\u001b[1m819/819\u001b[0m \u001b[32m━━━━━━━━━━━━━━━━━━━━\u001b[0m\u001b[37m\u001b[0m \u001b[1m17s\u001b[0m 20ms/step - loss: 8.5985 - mae: 2.2956 - val_loss: 9.3376 - val_mae: 2.3542\n",
      "Epoch 8/10\n",
      "\u001b[1m819/819\u001b[0m \u001b[32m━━━━━━━━━━━━━━━━━━━━\u001b[0m\u001b[37m\u001b[0m \u001b[1m16s\u001b[0m 20ms/step - loss: 8.4570 - mae: 2.2783 - val_loss: 9.6818 - val_mae: 2.3870\n",
      "Epoch 9/10\n",
      "\u001b[1m819/819\u001b[0m \u001b[32m━━━━━━━━━━━━━━━━━━━━\u001b[0m\u001b[37m\u001b[0m \u001b[1m16s\u001b[0m 19ms/step - loss: 8.3320 - mae: 2.2628 - val_loss: 9.8612 - val_mae: 2.4099\n",
      "Epoch 10/10\n",
      "\u001b[1m819/819\u001b[0m \u001b[32m━━━━━━━━━━━━━━━━━━━━\u001b[0m\u001b[37m\u001b[0m \u001b[1m16s\u001b[0m 20ms/step - loss: 8.1906 - mae: 2.2441 - val_loss: 9.8061 - val_mae: 2.4148\n"
     ]
    }
   ],
   "source": [
    "history = model.fit(train_dataset, epochs=10, validation_data=val_dataset,\n",
    "                    callbacks=callbacks)"
   ]
  },
  {
   "cell_type": "code",
   "execution_count": 61,
   "id": "6ffcbd40-a685-4b76-9f9a-835bd13909e1",
   "metadata": {
    "execution": {
     "iopub.execute_input": "2024-05-07T23:23:27.631229Z",
     "iopub.status.busy": "2024-05-07T23:23:27.630464Z",
     "iopub.status.idle": "2024-05-07T23:23:27.841403Z",
     "shell.execute_reply": "2024-05-07T23:23:27.839826Z",
     "shell.execute_reply.started": "2024-05-07T23:23:27.631154Z"
    }
   },
   "outputs": [
    {
     "data": {
      "text/plain": [
       "(<Figure size 640x480 with 1 Axes>,\n",
       " <Axes: xlabel='Epoch', ylabel='Mean Absolute Error'>)"
      ]
     },
     "execution_count": 61,
     "metadata": {},
     "output_type": "execute_result"
    },
    {
     "data": {
      "image/png": "[encoded data removed]",
      "text/plain": [
       "<Figure size 640x480 with 1 Axes>"
      ]
     },
     "metadata": {},
     "output_type": "display_data"
    }
   ],
   "source": [
    "plot_history(history)"
   ]
  },
  {
   "cell_type": "code",
   "execution_count": 62,
   "id": "e60f674f-aa6e-43e7-b242-15806d09944d",
   "metadata": {
    "execution": {
     "iopub.execute_input": "2024-05-07T23:23:27.842690Z",
     "iopub.status.busy": "2024-05-07T23:23:27.842440Z",
     "iopub.status.idle": "2024-05-07T23:23:31.821673Z",
     "shell.execute_reply": "2024-05-07T23:23:31.819250Z",
     "shell.execute_reply.started": "2024-05-07T23:23:27.842665Z"
    }
   },
   "outputs": [
    {
     "name": "stdout",
     "output_type": "stream",
     "text": [
      "\u001b[1m405/405\u001b[0m \u001b[32m━━━━━━━━━━━━━━━━━━━━\u001b[0m\u001b[37m\u001b[0m \u001b[1m4s\u001b[0m 9ms/step - loss: 9.7698 - mae: 2.4488\n",
      "Test MAE: 2.46\n"
     ]
    }
   ],
   "source": [
    "model = keras.models.load_model(\"jena_gruV1.keras\")\n",
    "mae_results['gruV1'] = model.evaluate(test_dataset)[1]\n",
    "print(f\"Test MAE: {mae_results['gruV1']:.2f}\")"
   ]
  },
  {
   "cell_type": "markdown",
   "id": "674cc79d-8fe2-46a4-a7d0-2cf7e765086f",
   "metadata": {},
   "source": [
    "#### GRU (v3)"
   ]
  },
  {
   "cell_type": "code",
   "execution_count": 63,
   "id": "1665d996-69d0-48fe-a430-b68069f7560f",
   "metadata": {
    "execution": {
     "iopub.execute_input": "2024-05-07T23:23:31.828438Z",
     "iopub.status.busy": "2024-05-07T23:23:31.827637Z",
     "iopub.status.idle": "2024-05-07T23:23:31.873903Z",
     "shell.execute_reply": "2024-05-07T23:23:31.872698Z",
     "shell.execute_reply.started": "2024-05-07T23:23:31.828362Z"
    }
   },
   "outputs": [],
   "source": [
    "inputs = keras.Input(shape=(sequence_length, raw_data.shape[-1]))\n",
    "x = layers.GRU(16, reset_after=False)(inputs)\n",
    "outputs = layers.Dense(1)(x)\n",
    "model = keras.Model(inputs, outputs)"
   ]
  },
  {
   "cell_type": "code",
   "execution_count": 64,
   "id": "b14441d4-abe7-4b24-b622-0ad85ed8bd69",
   "metadata": {
    "execution": {
     "iopub.execute_input": "2024-05-07T23:23:31.875124Z",
     "iopub.status.busy": "2024-05-07T23:23:31.874858Z",
     "iopub.status.idle": "2024-05-07T23:23:31.894363Z",
     "shell.execute_reply": "2024-05-07T23:23:31.893382Z",
     "shell.execute_reply.started": "2024-05-07T23:23:31.875098Z"
    }
   },
   "outputs": [
    {
     "data": {
      "text/html": [
       "<pre style=\"white-space:pre;overflow-x:auto;line-height:normal;font-family:Menlo,'DejaVu Sans Mono',consolas,'Courier New',monospace\"><span style=\"font-weight: bold\">Model: \"functional_19\"</span>\n",
       "</pre>\n"
      ],
      "text/plain": [
       "\u001b[1mModel: \"functional_19\"\u001b[0m\n"
      ]
     },
     "metadata": {},
     "output_type": "display_data"
    },
    {
     "data": {
      "text/html": [
       "<pre style=\"white-space:pre;overflow-x:auto;line-height:normal;font-family:Menlo,'DejaVu Sans Mono',consolas,'Courier New',monospace\">┏━━━━━━━━━━━━━━━━━━━━━━━━━━━━━━━━━┳━━━━━━━━━━━━━━━━━━━━━━━━┳━━━━━━━━━━━━━━━┓\n",
       "┃<span style=\"font-weight: bold\"> Layer (type)                    </span>┃<span style=\"font-weight: bold\"> Output Shape           </span>┃<span style=\"font-weight: bold\">       Param # </span>┃\n",
       "┡━━━━━━━━━━━━━━━━━━━━━━━━━━━━━━━━━╇━━━━━━━━━━━━━━━━━━━━━━━━╇━━━━━━━━━━━━━━━┩\n",
       "│ input_layer_9 (<span style=\"color: #0087ff; text-decoration-color: #0087ff\">InputLayer</span>)      │ (<span style=\"color: #00d7ff; text-decoration-color: #00d7ff\">None</span>, <span style=\"color: #00af00; text-decoration-color: #00af00\">120</span>, <span style=\"color: #00af00; text-decoration-color: #00af00\">14</span>)        │             <span style=\"color: #00af00; text-decoration-color: #00af00\">0</span> │\n",
       "├─────────────────────────────────┼────────────────────────┼───────────────┤\n",
       "│ gru_4 (<span style=\"color: #0087ff; text-decoration-color: #0087ff\">GRU</span>)                     │ (<span style=\"color: #00d7ff; text-decoration-color: #00d7ff\">None</span>, <span style=\"color: #00af00; text-decoration-color: #00af00\">16</span>)             │         <span style=\"color: #00af00; text-decoration-color: #00af00\">1,488</span> │\n",
       "├─────────────────────────────────┼────────────────────────┼───────────────┤\n",
       "│ dense_10 (<span style=\"color: #0087ff; text-decoration-color: #0087ff\">Dense</span>)                │ (<span style=\"color: #00d7ff; text-decoration-color: #00d7ff\">None</span>, <span style=\"color: #00af00; text-decoration-color: #00af00\">1</span>)              │            <span style=\"color: #00af00; text-decoration-color: #00af00\">17</span> │\n",
       "└─────────────────────────────────┴────────────────────────┴───────────────┘\n",
       "</pre>\n"
      ],
      "text/plain": [
       "┏━━━━━━━━━━━━━━━━━━━━━━━━━━━━━━━━━┳━━━━━━━━━━━━━━━━━━━━━━━━┳━━━━━━━━━━━━━━━┓\n",
       "┃\u001b[1m \u001b[0m\u001b[1mLayer (type)                   \u001b[0m\u001b[1m \u001b[0m┃\u001b[1m \u001b[0m\u001b[1mOutput Shape          \u001b[0m\u001b[1m \u001b[0m┃\u001b[1m \u001b[0m\u001b[1m      Param #\u001b[0m\u001b[1m \u001b[0m┃\n",
       "┡━━━━━━━━━━━━━━━━━━━━━━━━━━━━━━━━━╇━━━━━━━━━━━━━━━━━━━━━━━━╇━━━━━━━━━━━━━━━┩\n",
       "│ input_layer_9 (\u001b[38;5;33mInputLayer\u001b[0m)      │ (\u001b[38;5;45mNone\u001b[0m, \u001b[38;5;34m120\u001b[0m, \u001b[38;5;34m14\u001b[0m)        │             \u001b[38;5;34m0\u001b[0m │\n",
       "├─────────────────────────────────┼────────────────────────┼───────────────┤\n",
       "│ gru_4 (\u001b[38;5;33mGRU\u001b[0m)                     │ (\u001b[38;5;45mNone\u001b[0m, \u001b[38;5;34m16\u001b[0m)             │         \u001b[38;5;34m1,488\u001b[0m │\n",
       "├─────────────────────────────────┼────────────────────────┼───────────────┤\n",
       "│ dense_10 (\u001b[38;5;33mDense\u001b[0m)                │ (\u001b[38;5;45mNone\u001b[0m, \u001b[38;5;34m1\u001b[0m)              │            \u001b[38;5;34m17\u001b[0m │\n",
       "└─────────────────────────────────┴────────────────────────┴───────────────┘\n"
      ]
     },
     "metadata": {},
     "output_type": "display_data"
    },
    {
     "data": {
      "text/html": [
       "<pre style=\"white-space:pre;overflow-x:auto;line-height:normal;font-family:Menlo,'DejaVu Sans Mono',consolas,'Courier New',monospace\"><span style=\"font-weight: bold\"> Total params: </span><span style=\"color: #00af00; text-decoration-color: #00af00\">1,505</span> (5.88 KB)\n",
       "</pre>\n"
      ],
      "text/plain": [
       "\u001b[1m Total params: \u001b[0m\u001b[38;5;34m1,505\u001b[0m (5.88 KB)\n"
      ]
     },
     "metadata": {},
     "output_type": "display_data"
    },
    {
     "data": {
      "text/html": [
       "<pre style=\"white-space:pre;overflow-x:auto;line-height:normal;font-family:Menlo,'DejaVu Sans Mono',consolas,'Courier New',monospace\"><span style=\"font-weight: bold\"> Trainable params: </span><span style=\"color: #00af00; text-decoration-color: #00af00\">1,505</span> (5.88 KB)\n",
       "</pre>\n"
      ],
      "text/plain": [
       "\u001b[1m Trainable params: \u001b[0m\u001b[38;5;34m1,505\u001b[0m (5.88 KB)\n"
      ]
     },
     "metadata": {},
     "output_type": "display_data"
    },
    {
     "data": {
      "text/html": [
       "<pre style=\"white-space:pre;overflow-x:auto;line-height:normal;font-family:Menlo,'DejaVu Sans Mono',consolas,'Courier New',monospace\"><span style=\"font-weight: bold\"> Non-trainable params: </span><span style=\"color: #00af00; text-decoration-color: #00af00\">0</span> (0.00 B)\n",
       "</pre>\n"
      ],
      "text/plain": [
       "\u001b[1m Non-trainable params: \u001b[0m\u001b[38;5;34m0\u001b[0m (0.00 B)\n"
      ]
     },
     "metadata": {},
     "output_type": "display_data"
    }
   ],
   "source": [
    "model.summary()"
   ]
  },
  {
   "cell_type": "code",
   "execution_count": 65,
   "id": "ebdfeb89-b6a3-42c7-b52a-f65aa035016d",
   "metadata": {
    "execution": {
     "iopub.execute_input": "2024-05-07T23:23:31.895625Z",
     "iopub.status.busy": "2024-05-07T23:23:31.895372Z",
     "iopub.status.idle": "2024-05-07T23:23:31.906242Z",
     "shell.execute_reply": "2024-05-07T23:23:31.905147Z",
     "shell.execute_reply.started": "2024-05-07T23:23:31.895598Z"
    }
   },
   "outputs": [],
   "source": [
    "# Model checkpointing\n",
    "callbacks = [\n",
    "    keras.callbacks.ModelCheckpoint('jena_gruV3.keras', save_best_only=True)\n",
    "]\n",
    "model.compile(optimizer='rmsprop', loss='mse', metrics=['mae'])"
   ]
  },
  {
   "cell_type": "code",
   "execution_count": 66,
   "id": "05611670-258f-4ee4-8d1b-a6fc73b241e7",
   "metadata": {
    "execution": {
     "iopub.execute_input": "2024-05-07T23:23:31.907626Z",
     "iopub.status.busy": "2024-05-07T23:23:31.907309Z",
     "iopub.status.idle": "2024-05-07T23:27:39.524699Z",
     "shell.execute_reply": "2024-05-07T23:27:39.522311Z",
     "shell.execute_reply.started": "2024-05-07T23:23:31.907593Z"
    }
   },
   "outputs": [
    {
     "name": "stdout",
     "output_type": "stream",
     "text": [
      "Epoch 1/10\n",
      "\u001b[1m819/819\u001b[0m \u001b[32m━━━━━━━━━━━━━━━━━━━━\u001b[0m\u001b[37m\u001b[0m \u001b[1m29s\u001b[0m 32ms/step - loss: 74.1876 - mae: 6.5533 - val_loss: 12.6924 - val_mae: 2.6743\n",
      "Epoch 2/10\n",
      "\u001b[1m819/819\u001b[0m \u001b[32m━━━━━━━━━━━━━━━━━━━━\u001b[0m\u001b[37m\u001b[0m \u001b[1m24s\u001b[0m 30ms/step - loss: 11.0635 - mae: 2.5695 - val_loss: 10.1265 - val_mae: 2.4379\n",
      "Epoch 3/10\n",
      "\u001b[1m819/819\u001b[0m \u001b[32m━━━━━━━━━━━━━━━━━━━━\u001b[0m\u001b[37m\u001b[0m \u001b[1m25s\u001b[0m 30ms/step - loss: 9.5640 - mae: 2.4107 - val_loss: 10.1795 - val_mae: 2.4479\n",
      "Epoch 4/10\n",
      "\u001b[1m819/819\u001b[0m \u001b[32m━━━━━━━━━━━━━━━━━━━━\u001b[0m\u001b[37m\u001b[0m \u001b[1m24s\u001b[0m 29ms/step - loss: 9.2875 - mae: 2.3752 - val_loss: 10.5172 - val_mae: 2.4761\n",
      "Epoch 5/10\n",
      "\u001b[1m819/819\u001b[0m \u001b[32m━━━━━━━━━━━━━━━━━━━━\u001b[0m\u001b[37m\u001b[0m \u001b[1m24s\u001b[0m 30ms/step - loss: 9.1161 - mae: 2.3549 - val_loss: 10.5592 - val_mae: 2.4872\n",
      "Epoch 6/10\n",
      "\u001b[1m819/819\u001b[0m \u001b[32m━━━━━━━━━━━━━━━━━━━━\u001b[0m\u001b[37m\u001b[0m \u001b[1m24s\u001b[0m 29ms/step - loss: 8.9580 - mae: 2.3380 - val_loss: 10.3758 - val_mae: 2.4738\n",
      "Epoch 7/10\n",
      "\u001b[1m819/819\u001b[0m \u001b[32m━━━━━━━━━━━━━━━━━━━━\u001b[0m\u001b[37m\u001b[0m \u001b[1m24s\u001b[0m 30ms/step - loss: 8.8117 - mae: 2.3211 - val_loss: 10.5977 - val_mae: 2.4897\n",
      "Epoch 8/10\n",
      "\u001b[1m819/819\u001b[0m \u001b[32m━━━━━━━━━━━━━━━━━━━━\u001b[0m\u001b[37m\u001b[0m \u001b[1m25s\u001b[0m 30ms/step - loss: 8.6670 - mae: 2.3033 - val_loss: 10.0913 - val_mae: 2.4534\n",
      "Epoch 9/10\n",
      "\u001b[1m819/819\u001b[0m \u001b[32m━━━━━━━━━━━━━━━━━━━━\u001b[0m\u001b[37m\u001b[0m \u001b[1m24s\u001b[0m 30ms/step - loss: 8.5149 - mae: 2.2843 - val_loss: 10.3793 - val_mae: 2.4721\n",
      "Epoch 10/10\n",
      "\u001b[1m819/819\u001b[0m \u001b[32m━━━━━━━━━━━━━━━━━━━━\u001b[0m\u001b[37m\u001b[0m \u001b[1m24s\u001b[0m 29ms/step - loss: 8.3488 - mae: 2.2630 - val_loss: 10.4061 - val_mae: 2.4689\n"
     ]
    }
   ],
   "source": [
    "history = model.fit(train_dataset, epochs=10, validation_data=val_dataset,\n",
    "                    callbacks=callbacks)"
   ]
  },
  {
   "cell_type": "code",
   "execution_count": 67,
   "id": "050f7b9a-8a1d-4aad-af6d-d895b6188995",
   "metadata": {
    "execution": {
     "iopub.execute_input": "2024-05-07T23:27:39.528622Z",
     "iopub.status.busy": "2024-05-07T23:27:39.527930Z",
     "iopub.status.idle": "2024-05-07T23:27:39.728697Z",
     "shell.execute_reply": "2024-05-07T23:27:39.726366Z",
     "shell.execute_reply.started": "2024-05-07T23:27:39.528555Z"
    }
   },
   "outputs": [
    {
     "data": {
      "image/png": "[encoded data removed]",
      "text/plain": [
       "<Figure size 640x480 with 1 Axes>"
      ]
     },
     "metadata": {},
     "output_type": "display_data"
    }
   ],
   "source": [
    "fig, ax = plot_history(history)"
   ]
  },
  {
   "cell_type": "code",
   "execution_count": 68,
   "id": "23aed1c6-f4bc-454d-a1ff-af4c8d2a3c31",
   "metadata": {
    "execution": {
     "iopub.execute_input": "2024-05-07T23:27:39.732889Z",
     "iopub.status.busy": "2024-05-07T23:27:39.731829Z",
     "iopub.status.idle": "2024-05-07T23:27:45.558029Z",
     "shell.execute_reply": "2024-05-07T23:27:45.556754Z",
     "shell.execute_reply.started": "2024-05-07T23:27:39.732769Z"
    }
   },
   "outputs": [
    {
     "name": "stdout",
     "output_type": "stream",
     "text": [
      "\u001b[1m405/405\u001b[0m \u001b[32m━━━━━━━━━━━━━━━━━━━━\u001b[0m\u001b[37m\u001b[0m \u001b[1m6s\u001b[0m 12ms/step - loss: 9.8998 - mae: 2.4803\n",
      "Test MAE: 2.48\n"
     ]
    }
   ],
   "source": [
    "model = keras.models.load_model(\"jena_gruV3.keras\")\n",
    "mae_results['gruV3'] = model.evaluate(test_dataset)[1]\n",
    "print(f\"Test MAE: {mae_results['gruV3']:.2f}\")"
   ]
  },
  {
   "cell_type": "markdown",
   "id": "2c1166a0-d75e-4ddf-9744-131beb0a2737",
   "metadata": {},
   "source": [
    "### Summary of Results"
   ]
  },
  {
   "cell_type": "code",
   "execution_count": 69,
   "id": "07b06812-80bb-4ba6-994f-e85eb94e973c",
   "metadata": {
    "execution": {
     "iopub.execute_input": "2024-05-07T23:27:45.563484Z",
     "iopub.status.busy": "2024-05-07T23:27:45.562959Z",
     "iopub.status.idle": "2024-05-07T23:27:45.581602Z",
     "shell.execute_reply": "2024-05-07T23:27:45.579645Z",
     "shell.execute_reply.started": "2024-05-07T23:27:45.563430Z"
    }
   },
   "outputs": [
    {
     "data": {
      "text/html": [
       "<div>\n",
       "<style scoped>\n",
       "    .dataframe tbody tr th:only-of-type {\n",
       "        vertical-align: middle;\n",
       "    }\n",
       "\n",
       "    .dataframe tbody tr th {\n",
       "        vertical-align: top;\n",
       "    }\n",
       "\n",
       "    .dataframe thead th {\n",
       "        text-align: right;\n",
       "    }\n",
       "</style>\n",
       "<table border=\"1\" class=\"dataframe\">\n",
       "  <thead>\n",
       "    <tr style=\"text-align: right;\">\n",
       "      <th></th>\n",
       "      <th>MAE</th>\n",
       "    </tr>\n",
       "  </thead>\n",
       "  <tbody>\n",
       "    <tr>\n",
       "      <th>naive</th>\n",
       "      <td>2.622036</td>\n",
       "    </tr>\n",
       "    <tr>\n",
       "      <th>dense</th>\n",
       "      <td>2.646424</td>\n",
       "    </tr>\n",
       "    <tr>\n",
       "      <th>lstm</th>\n",
       "      <td>2.551457</td>\n",
       "    </tr>\n",
       "    <tr>\n",
       "      <th>gruV1</th>\n",
       "      <td>2.455552</td>\n",
       "    </tr>\n",
       "    <tr>\n",
       "      <th>gruV3</th>\n",
       "      <td>2.483539</td>\n",
       "    </tr>\n",
       "  </tbody>\n",
       "</table>\n",
       "</div>"
      ],
      "text/plain": [
       "            MAE\n",
       "naive  2.622036\n",
       "dense  2.646424\n",
       "lstm   2.551457\n",
       "gruV1  2.455552\n",
       "gruV3  2.483539"
      ]
     },
     "execution_count": 69,
     "metadata": {},
     "output_type": "execute_result"
    }
   ],
   "source": [
    "pd.Series(mae_results).to_frame('MAE')"
   ]
  },
  {
   "cell_type": "markdown",
   "id": "4e2431cd-201c-4ba4-8124-e4aa967304dc",
   "metadata": {},
   "source": [
    "## Supplementary Readings"
   ]
  },
  {
   "cell_type": "markdown",
   "id": "6123b073-3b2c-46d7-aa2f-4fb982a6d8e9",
   "metadata": {},
   "source": [
    "1. https://svail.github.io/diff_graphs/\n",
    "2. https://colah.github.io/posts/2015-08-Understanding-LSTMs/\n",
    "3. https://towardsdatascience.com/illustrated-guide-to-lstms-and-gru-s-a-step-by-step-explanation-44e9eb85bf21\n",
    "4. https://medium.com/@ayeshashabbirshabbirahmad/understanding-rnn-lstm-and-gru-architectures-and-challenges-in-processing-long-sequences-71cf62b300b2"
   ]
  }
 ],
 "metadata": {
  "kernelspec": {
   "display_name": "Python [conda env:.conda-msds2024-ml3-rnn]",
   "language": "python",
   "name": "conda-env-.conda-msds2024-ml3-rnn-py"
  },
  "language_info": {
   "codemirror_mode": {
    "name": "ipython",
    "version": 3
   },
   "file_extension": ".py",
   "mimetype": "text/x-python",
   "name": "python",
   "nbconvert_exporter": "python",
   "pygments_lexer": "ipython3",
   "version": "3.10.12"
  }
 },
 "nbformat": 4,
 "nbformat_minor": 5
}
